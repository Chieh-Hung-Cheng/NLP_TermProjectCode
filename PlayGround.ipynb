{
 "cells": [
  {
   "cell_type": "code",
   "execution_count": 1,
   "metadata": {},
   "outputs": [],
   "source": [
    "import os\n",
    "import pandas as pd\n",
    "import torch\n",
    "\n",
    "import importlib\n",
    "import pickle\n",
    "import re\n",
    "\n",
    "base_path = os.getcwd()\n",
    "data_path = os.path.join(base_path, \"data\")\n",
    "question_path = os.path.join(data_path, \"questions\")\n",
    "python_path = os.path.join(data_path, \"python\")"
   ]
  },
  {
   "cell_type": "code",
   "execution_count": 2,
   "metadata": {},
   "outputs": [],
   "source": [
    "import ProblemSetReader\n",
    "importlib.reload(ProblemSetReader)\n",
    "problem_set_reader = ProblemSetReader.ProblemSetReader()\n",
    "df = pd.read_pickle(\"./data/euler_df.pkl\")"
   ]
  },
  {
   "cell_type": "code",
   "execution_count": 3,
   "metadata": {},
   "outputs": [
    {
     "data": {
      "text/html": [
       "<div>\n",
       "<style scoped>\n",
       "    .dataframe tbody tr th:only-of-type {\n",
       "        vertical-align: middle;\n",
       "    }\n",
       "\n",
       "    .dataframe tbody tr th {\n",
       "        vertical-align: top;\n",
       "    }\n",
       "\n",
       "    .dataframe thead th {\n",
       "        text-align: right;\n",
       "    }\n",
       "</style>\n",
       "<table border=\"1\" class=\"dataframe\">\n",
       "  <thead>\n",
       "    <tr style=\"text-align: right;\">\n",
       "      <th></th>\n",
       "      <th>idx</th>\n",
       "      <th>question</th>\n",
       "      <th>answer</th>\n",
       "      <th>python_code</th>\n",
       "    </tr>\n",
       "  </thead>\n",
       "  <tbody>\n",
       "    <tr>\n",
       "      <th>0</th>\n",
       "      <td>1</td>\n",
       "      <td>If we list all the natural numbers below $10$ ...</td>\n",
       "      <td>2.331680e+05</td>\n",
       "      <td>\\n\\ndef compute():\\n\\tans = sum(x for x in ran...</td>\n",
       "    </tr>\n",
       "    <tr>\n",
       "      <th>1</th>\n",
       "      <td>2</td>\n",
       "      <td>Each new term in the Fibonacci sequence is gen...</td>\n",
       "      <td>4.613732e+06</td>\n",
       "      <td>\\n\\ndef compute():\\n\\tans = 0\\n\\tx = 1  # Repr...</td>\n",
       "    </tr>\n",
       "    <tr>\n",
       "      <th>2</th>\n",
       "      <td>3</td>\n",
       "      <td>The prime factors of $13195$ are $5, 7, 13$ an...</td>\n",
       "      <td>6.857000e+03</td>\n",
       "      <td>\\nimport math\\n\\n\\ndef compute():\\n\\tn = 60085...</td>\n",
       "    </tr>\n",
       "    <tr>\n",
       "      <th>3</th>\n",
       "      <td>4</td>\n",
       "      <td>A palindromic number reads the same both ways....</td>\n",
       "      <td>9.066090e+05</td>\n",
       "      <td>\\n\\ndef compute():\\n\\tans = max(i * j\\n\\t\\tfor...</td>\n",
       "    </tr>\n",
       "    <tr>\n",
       "      <th>4</th>\n",
       "      <td>5</td>\n",
       "      <td>$2520$ is the smallest number that can be divi...</td>\n",
       "      <td>2.327926e+08</td>\n",
       "      <td>\\nimport math\\n\\n\\ndef compute():\\n\\tans = mat...</td>\n",
       "    </tr>\n",
       "    <tr>\n",
       "      <th>...</th>\n",
       "      <td>...</td>\n",
       "      <td>...</td>\n",
       "      <td>...</td>\n",
       "      <td>...</td>\n",
       "    </tr>\n",
       "    <tr>\n",
       "      <th>186</th>\n",
       "      <td>451</td>\n",
       "      <td>\\nConsider the number $15$.\\nThere are eight p...</td>\n",
       "      <td>1.536511e+14</td>\n",
       "      <td>\\nimport array, itertools, math\\n\\n\\ndef compu...</td>\n",
       "    </tr>\n",
       "    <tr>\n",
       "      <th>187</th>\n",
       "      <td>500</td>\n",
       "      <td>The number of divisors of $120$ is $16$.\\nIn f...</td>\n",
       "      <td>3.540728e+07</td>\n",
       "      <td>\\nimport eulerlib, heapq\\n\\n\\ndef compute():\\n...</td>\n",
       "    </tr>\n",
       "    <tr>\n",
       "      <th>188</th>\n",
       "      <td>518</td>\n",
       "      <td>Let $S(n) = \\sum a + b + c$ over all triples $...</td>\n",
       "      <td>1.003157e+14</td>\n",
       "      <td>\\nimport eulerlib, math, itertools\\n\\n\\ndef co...</td>\n",
       "    </tr>\n",
       "    <tr>\n",
       "      <th>189</th>\n",
       "      <td>549</td>\n",
       "      <td>\\nThe smallest number $m$ such that $10$ divid...</td>\n",
       "      <td>4.760015e+14</td>\n",
       "      <td>\\nimport itertools\\n\\n\\ndef compute():\\n\\tLIMI...</td>\n",
       "    </tr>\n",
       "    <tr>\n",
       "      <th>190</th>\n",
       "      <td>587</td>\n",
       "      <td>\\nA square is drawn around a circle as shown i...</td>\n",
       "      <td>2.240000e+03</td>\n",
       "      <td>\\nimport itertools, math\\n\\n\\ndef compute():\\n...</td>\n",
       "    </tr>\n",
       "  </tbody>\n",
       "</table>\n",
       "<p>191 rows × 4 columns</p>\n",
       "</div>"
      ],
      "text/plain": [
       "     idx                                           question        answer  \\\n",
       "0      1  If we list all the natural numbers below $10$ ...  2.331680e+05   \n",
       "1      2  Each new term in the Fibonacci sequence is gen...  4.613732e+06   \n",
       "2      3  The prime factors of $13195$ are $5, 7, 13$ an...  6.857000e+03   \n",
       "3      4  A palindromic number reads the same both ways....  9.066090e+05   \n",
       "4      5  $2520$ is the smallest number that can be divi...  2.327926e+08   \n",
       "..   ...                                                ...           ...   \n",
       "186  451  \\nConsider the number $15$.\\nThere are eight p...  1.536511e+14   \n",
       "187  500  The number of divisors of $120$ is $16$.\\nIn f...  3.540728e+07   \n",
       "188  518  Let $S(n) = \\sum a + b + c$ over all triples $...  1.003157e+14   \n",
       "189  549  \\nThe smallest number $m$ such that $10$ divid...  4.760015e+14   \n",
       "190  587  \\nA square is drawn around a circle as shown i...  2.240000e+03   \n",
       "\n",
       "                                           python_code  \n",
       "0    \\n\\ndef compute():\\n\\tans = sum(x for x in ran...  \n",
       "1    \\n\\ndef compute():\\n\\tans = 0\\n\\tx = 1  # Repr...  \n",
       "2    \\nimport math\\n\\n\\ndef compute():\\n\\tn = 60085...  \n",
       "3    \\n\\ndef compute():\\n\\tans = max(i * j\\n\\t\\tfor...  \n",
       "4    \\nimport math\\n\\n\\ndef compute():\\n\\tans = mat...  \n",
       "..                                                 ...  \n",
       "186  \\nimport array, itertools, math\\n\\n\\ndef compu...  \n",
       "187  \\nimport eulerlib, heapq\\n\\n\\ndef compute():\\n...  \n",
       "188  \\nimport eulerlib, math, itertools\\n\\n\\ndef co...  \n",
       "189  \\nimport itertools\\n\\n\\ndef compute():\\n\\tLIMI...  \n",
       "190  \\nimport itertools, math\\n\\n\\ndef compute():\\n...  \n",
       "\n",
       "[191 rows x 4 columns]"
      ]
     },
     "execution_count": 3,
     "metadata": {},
     "output_type": "execute_result"
    }
   ],
   "source": [
    "df"
   ]
  },
  {
   "cell_type": "markdown",
   "metadata": {},
   "source": [
    "# Test GPT"
   ]
  },
  {
   "cell_type": "code",
   "execution_count": 125,
   "metadata": {},
   "outputs": [],
   "source": [
    "import GPTAgent\n",
    "importlib.reload(GPTAgent)\n",
    "gpt_agent = GPTAgent.GPTAgent()"
   ]
  },
  {
   "cell_type": "code",
   "execution_count": 126,
   "metadata": {},
   "outputs": [
    {
     "data": {
      "text/plain": [
       "['1. Define the problem statement and understand the required input/output.',\n",
       " '2. Generate palindromic numbers from 1 to $10^8$.',\n",
       " '3. For each palindromic number, find all possible combinations of consecutive squares that sum up to the palindromic number.',\n",
       " '4. Verify if the sum of consecutive squares is valid for each palindromic number, excluding the case of $1 = 0^2 + 1^2$.',\n",
       " '5. Print the sum of all numbers less than $10^8$ that are both palindromic and can be written as the sum of consecutive squares.']"
      ]
     },
     "execution_count": 126,
     "metadata": {},
     "output_type": "execute_result"
    }
   ],
   "source": [
    "response_string = gpt_agent.generate_chain_of_thoughts(problem_set_reader.get_question(125))\n",
    "procedures = response_string.split(\"\\n\")\n",
    "procedures"
   ]
  },
  {
   "cell_type": "code",
   "execution_count": 130,
   "metadata": {},
   "outputs": [
    {
     "data": {
      "text/plain": [
       "\"I'm sorry, but I don't have the ability to recall past interactions or questions from previous conversations. Each session with me is independent, and I treat every interaction as a new encounter. How may I assist you today?\\n\""
      ]
     },
     "execution_count": 130,
     "metadata": {},
     "output_type": "execute_result"
    }
   ],
   "source": [
    "from g4f.client import Client\n",
    "\n",
    "client = Client()\n",
    "response = client.chat.completions.create(\n",
    "    model=\"gpt-4\",\n",
    "    messages=[{\"role\": \"system\", \"content\": \"Only respond in English.\"},\n",
    "              {\"role\": \"user\", \"content\": \"How to make a cup of tea?\"}, \n",
    "              {\"role\": \"assistant\", \"content\": \"Simply boil water and add tea.\"}, \n",
    "              {\"role\": \"user\", \"content\": \"What is the last question I asked you?\"}],\n",
    ")\n",
    "response.choices[0].message.content"
   ]
  },
  {
   "cell_type": "code",
   "execution_count": 127,
   "metadata": {},
   "outputs": [
    {
     "name": "stdout",
     "output_type": "stream",
     "text": [
      "```\n",
      "python\n",
      "problem_statement = input(\"请输入问题描述：\")\n",
      "required_input_output = input(\"请输入所需输入输出：\")\n",
      "```\n",
      "```python\n",
      "for i in range(1, 10**8 + 1):\n",
      "    if str(i) == str(i)[::-1]:\n",
      "        print(i)\n",
      "```\n",
      "```python\n",
      "import itertools\n",
      "for i in range(1, 10**8 + 1):\n",
      "    if str(i) == str(i)[::-1]:\n",
      "        for r in range(1, int(i**0.5) + 1):\n",
      "            for combo in itertools.combinations(range(1, r + 1), r):\n",
      "                if sum(j**2 for j in combo) == i:\n",
      "                    print(f\"{i} = {'+'.join(str(j**2) for j in combo)}\")\n",
      "```\n",
      "```python\n",
      "for i in range(1, 10**8 + 1):\n",
      "    if str(i) == str(i)[::-1] and i!= 2 and any(sum(j**2 for j in range(a, b)) == i for a in range(1, int(i**0.5) + 1) for b in range(a, int(i**0.5) + 2)):\n",
      "        print(i)\n",
      "```\n",
      "```python\n",
      "sum_of_palindromes = sum(i for i in range(1, 10**8 + 1) if str(i) == str(i)[::-1] and any(sum(j**2 for j in range(a, b)) == i for a in range(1, int(i**0.5) + 1) for b in range(a, int(i**0.5) + 2)) and i != 1)\n",
      "print(sum_of_palindromes)\n",
      "```\n"
     ]
    }
   ],
   "source": [
    "messages = []\n",
    "\n",
    "for step_description in procedures:\n",
    "    prompt = f\"Generate at most two line of python code (packed by ```python {{python_code}}```) for this step (and only this step): {step_description}. \\\n",
    "        Directly output the code without explaination, output space to indent if necessary\"\n",
    "\n",
    "    messages.append({\"role\": \"user\", \"content\": prompt})\n",
    "    response = client.chat.completions.create(\n",
    "        model=\"gpt-3.5-turbo\",\n",
    "        messages=messages\n",
    "    )\n",
    "    ret_string = response.choices[0].message.content\n",
    "    print(ret_string)\n",
    "    messages.append({\"role\": \"assistant\", \"content\": ret_string})"
   ]
  },
  {
   "cell_type": "code",
   "execution_count": 128,
   "metadata": {},
   "outputs": [
    {
     "data": {
      "text/plain": [
       "['```\\npython\\nproblem_statement = input(\"请输入问题描述：\")\\nrequired_input_output = input(\"请输入所需输入输出：\")\\n```',\n",
       " '```python\\nfor i in range(1, 10**8 + 1):\\n    if str(i) == str(i)[::-1]:\\n        print(i)\\n```',\n",
       " '```python\\nimport itertools\\nfor i in range(1, 10**8 + 1):\\n    if str(i) == str(i)[::-1]:\\n        for r in range(1, int(i**0.5) + 1):\\n            for combo in itertools.combinations(range(1, r + 1), r):\\n                if sum(j**2 for j in combo) == i:\\n                    print(f\"{i} = {\\'+\\'.join(str(j**2) for j in combo)}\")\\n```',\n",
       " '```python\\nfor i in range(1, 10**8 + 1):\\n    if str(i) == str(i)[::-1] and i!= 2 and any(sum(j**2 for j in range(a, b)) == i for a in range(1, int(i**0.5) + 1) for b in range(a, int(i**0.5) + 2)):\\n        print(i)\\n```',\n",
       " '```python\\nsum_of_palindromes = sum(i for i in range(1, 10**8 + 1) if str(i) == str(i)[::-1] and any(sum(j**2 for j in range(a, b)) == i for a in range(1, int(i**0.5) + 1) for b in range(a, int(i**0.5) + 2)) and i != 1)\\nprint(sum_of_palindromes)\\n```']"
      ]
     },
     "execution_count": 128,
     "metadata": {},
     "output_type": "execute_result"
    }
   ],
   "source": [
    "raw_code = [messages['content'] for messages in messages if messages['role']=='assistant']\n",
    "raw_code"
   ]
  },
  {
   "cell_type": "code",
   "execution_count": 129,
   "metadata": {},
   "outputs": [
    {
     "name": "stdout",
     "output_type": "stream",
     "text": [
      "\n",
      "for i in range(1, 10**8 + 1):\n",
      "    if str(i) == str(i)[::-1]:\n",
      "        print(i)\n",
      "\n",
      "import itertools\n",
      "for i in range(1, 10**8 + 1):\n",
      "    if str(i) == str(i)[::-1]:\n",
      "        for r in range(1, int(i**0.5) + 1):\n",
      "            for combo in itertools.combinations(range(1, r + 1), r):\n",
      "                if sum(j**2 for j in combo) == i:\n",
      "                    print(f\"{i} = {'+'.join(str(j**2) for j in combo)}\")\n",
      "\n",
      "for i in range(1, 10**8 + 1):\n",
      "    if str(i) == str(i)[::-1] and i!= 2 and any(sum(j**2 for j in range(a, b)) == i for a in range(1, int(i**0.5) + 1) for b in range(a, int(i**0.5) + 2)):\n",
      "        print(i)\n",
      "\n",
      "sum_of_palindromes = sum(i for i in range(1, 10**8 + 1) if str(i) == str(i)[::-1] and any(sum(j**2 for j in range(a, b)) == i for a in range(1, int(i**0.5) + 1) for b in range(a, int(i**0.5) + 2)) and i != 1)\n",
      "print(sum_of_palindromes)\n",
      "\n"
     ]
    }
   ],
   "source": [
    "pattern = r\"```python(.*?)```\"\n",
    "code_cleansed = [match.group(1) for match in re.finditer(pattern, '\\n'.join(raw_code), re.DOTALL)]\n",
    "code_concat = \"\".join(code_cleansed)\n",
    "print(code_concat)"
   ]
  }
 ],
 "metadata": {
  "kernelspec": {
   "display_name": "default",
   "language": "python",
   "name": "python3"
  },
  "language_info": {
   "codemirror_mode": {
    "name": "ipython",
    "version": 3
   },
   "file_extension": ".py",
   "mimetype": "text/x-python",
   "name": "python",
   "nbconvert_exporter": "python",
   "pygments_lexer": "ipython3",
   "version": "3.10.11"
  }
 },
 "nbformat": 4,
 "nbformat_minor": 2
}
