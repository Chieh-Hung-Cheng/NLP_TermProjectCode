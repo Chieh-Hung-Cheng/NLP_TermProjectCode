{
 "cells": [
  {
   "cell_type": "code",
   "execution_count": 1,
   "metadata": {},
   "outputs": [],
   "source": [
    "import os\n",
    "import pandas as pd\n",
    "import torch\n",
    "\n",
    "import importlib\n",
    "import pickle\n",
    "import re\n",
    "\n",
    "base_path = os.getcwd()\n",
    "data_path = os.path.join(base_path, \"data\")\n",
    "question_path = os.path.join(data_path, \"questions\")\n",
    "python_path = os.path.join(data_path, \"python\")"
   ]
  },
  {
   "cell_type": "code",
   "execution_count": 3,
   "metadata": {},
   "outputs": [],
   "source": [
    "import ProblemSetReader\n",
    "importlib.reload(ProblemSetReader)\n",
    "problem_set_reader = ProblemSetReader.ProblemSetReader()\n",
    "df = pd.read_pickle(\"./data/euler_df.pkl\")"
   ]
  },
  {
   "cell_type": "code",
   "execution_count": 4,
   "metadata": {},
   "outputs": [
    {
     "name": "stdout",
     "output_type": "stream",
     "text": [
      "(58, 4)\n"
     ]
    },
    {
     "data": {
      "text/html": [
       "<div>\n",
       "<style scoped>\n",
       "    .dataframe tbody tr th:only-of-type {\n",
       "        vertical-align: middle;\n",
       "    }\n",
       "\n",
       "    .dataframe tbody tr th {\n",
       "        vertical-align: top;\n",
       "    }\n",
       "\n",
       "    .dataframe thead th {\n",
       "        text-align: right;\n",
       "    }\n",
       "</style>\n",
       "<table border=\"1\" class=\"dataframe\">\n",
       "  <thead>\n",
       "    <tr style=\"text-align: right;\">\n",
       "      <th></th>\n",
       "      <th>idx</th>\n",
       "      <th>question</th>\n",
       "      <th>answer</th>\n",
       "      <th>python_code</th>\n",
       "    </tr>\n",
       "  </thead>\n",
       "  <tbody>\n",
       "    <tr>\n",
       "      <th>0</th>\n",
       "      <td>1</td>\n",
       "      <td>If we list all the natural numbers below $10$ ...</td>\n",
       "      <td>2.331680e+05</td>\n",
       "      <td>\\n\\ndef compute():\\n\\tans = sum(x for x in ran...</td>\n",
       "    </tr>\n",
       "    <tr>\n",
       "      <th>1</th>\n",
       "      <td>2</td>\n",
       "      <td>Each new term in the Fibonacci sequence is gen...</td>\n",
       "      <td>4.613732e+06</td>\n",
       "      <td>\\n\\ndef compute():\\n\\tans = 0\\n\\tx = 1  # Repr...</td>\n",
       "    </tr>\n",
       "    <tr>\n",
       "      <th>2</th>\n",
       "      <td>3</td>\n",
       "      <td>The prime factors of $13195$ are $5, 7, 13$ an...</td>\n",
       "      <td>6.857000e+03</td>\n",
       "      <td>\\nimport math\\n\\n\\ndef compute():\\n\\tn = 60085...</td>\n",
       "    </tr>\n",
       "    <tr>\n",
       "      <th>3</th>\n",
       "      <td>4</td>\n",
       "      <td>A palindromic number reads the same both ways....</td>\n",
       "      <td>9.066090e+05</td>\n",
       "      <td>\\n\\ndef compute():\\n\\tans = max(i * j\\n\\t\\tfor...</td>\n",
       "    </tr>\n",
       "    <tr>\n",
       "      <th>4</th>\n",
       "      <td>5</td>\n",
       "      <td>$2520$ is the smallest number that can be divi...</td>\n",
       "      <td>2.327926e+08</td>\n",
       "      <td>\\nimport math\\n\\n\\ndef compute():\\n\\tans = mat...</td>\n",
       "    </tr>\n",
       "    <tr>\n",
       "      <th>5</th>\n",
       "      <td>6</td>\n",
       "      <td>The sum of the squares of the first ten natura...</td>\n",
       "      <td>2.516415e+07</td>\n",
       "      <td>\\n\\ndef compute():\\n\\tN = 100\\n\\ts = sum(i for...</td>\n",
       "    </tr>\n",
       "    <tr>\n",
       "      <th>6</th>\n",
       "      <td>7</td>\n",
       "      <td>By listing the first six prime numbers: $2, 3,...</td>\n",
       "      <td>1.047430e+05</td>\n",
       "      <td>\\nimport eulerlib, itertools\\n\\n\\ndef compute(...</td>\n",
       "    </tr>\n",
       "    <tr>\n",
       "      <th>7</th>\n",
       "      <td>9</td>\n",
       "      <td>A Pythagorean triplet is a set of three natura...</td>\n",
       "      <td>3.187500e+07</td>\n",
       "      <td>\\n\\ndef compute():\\n\\tPERIMETER = 1000\\n\\tfor ...</td>\n",
       "    </tr>\n",
       "    <tr>\n",
       "      <th>8</th>\n",
       "      <td>10</td>\n",
       "      <td>The sum of the primes below $10$ is $2 + 3 + 5...</td>\n",
       "      <td>1.429138e+11</td>\n",
       "      <td>\\nimport eulerlib\\n\\n\\ndef compute():\\n\\tans =...</td>\n",
       "    </tr>\n",
       "    <tr>\n",
       "      <th>9</th>\n",
       "      <td>15</td>\n",
       "      <td>Starting in the top left corner of a $2 \\times...</td>\n",
       "      <td>1.378465e+11</td>\n",
       "      <td>\\nimport math\\n\\n\\ndef compute():\\n\\treturn st...</td>\n",
       "    </tr>\n",
       "    <tr>\n",
       "      <th>10</th>\n",
       "      <td>16</td>\n",
       "      <td>$2^{15} = 32768$ and the sum of its digits is ...</td>\n",
       "      <td>1.366000e+03</td>\n",
       "      <td>\\n\\ndef compute():\\n\\tn = 2**1000\\n\\tans = sum...</td>\n",
       "    </tr>\n",
       "    <tr>\n",
       "      <th>11</th>\n",
       "      <td>19</td>\n",
       "      <td>\\nYou are given the following information, but...</td>\n",
       "      <td>1.710000e+02</td>\n",
       "      <td>\\nimport datetime\\n\\n\\ndef compute():\\n\\tans =...</td>\n",
       "    </tr>\n",
       "    <tr>\n",
       "      <th>12</th>\n",
       "      <td>20</td>\n",
       "      <td>$n!$ means $n \\times (n - 1) \\times \\cdots \\ti...</td>\n",
       "      <td>6.480000e+02</td>\n",
       "      <td>\\nimport math\\n\\n\\ndef compute():\\n\\tn = math....</td>\n",
       "    </tr>\n",
       "    <tr>\n",
       "      <th>13</th>\n",
       "      <td>24</td>\n",
       "      <td>A permutation is an ordered arrangement of obj...</td>\n",
       "      <td>2.783915e+09</td>\n",
       "      <td>\\nimport itertools\\n\\n\\ndef compute():\\n\\tarr ...</td>\n",
       "    </tr>\n",
       "    <tr>\n",
       "      <th>14</th>\n",
       "      <td>28</td>\n",
       "      <td>Starting with the number $1$ and moving to the...</td>\n",
       "      <td>6.691710e+08</td>\n",
       "      <td>\\n\\ndef compute():\\n\\tSIZE = 1001  # Must be o...</td>\n",
       "    </tr>\n",
       "    <tr>\n",
       "      <th>15</th>\n",
       "      <td>31</td>\n",
       "      <td>In the United Kingdom the currency is made up ...</td>\n",
       "      <td>7.368200e+04</td>\n",
       "      <td>\\n\\ndef compute():\\n\\tTOTAL = 200\\n\\t\\n\\t# At ...</td>\n",
       "    </tr>\n",
       "    <tr>\n",
       "      <th>16</th>\n",
       "      <td>34</td>\n",
       "      <td>$145$ is a curious number, as $1! + 4! + 5! = ...</td>\n",
       "      <td>4.073000e+04</td>\n",
       "      <td>\\nimport math\\n\\n\\ndef compute():\\n\\t# As stat...</td>\n",
       "    </tr>\n",
       "    <tr>\n",
       "      <th>17</th>\n",
       "      <td>35</td>\n",
       "      <td>The number, $197$, is called a circular prime ...</td>\n",
       "      <td>5.500000e+01</td>\n",
       "      <td>\\nimport eulerlib\\n\\n\\ndef compute():\\n\\tispri...</td>\n",
       "    </tr>\n",
       "    <tr>\n",
       "      <th>18</th>\n",
       "      <td>36</td>\n",
       "      <td>The decimal number, $585 = 1001001001_2$ (bina...</td>\n",
       "      <td>8.721870e+05</td>\n",
       "      <td>\\n\\ndef compute():\\n\\tans = sum(i for i in ran...</td>\n",
       "    </tr>\n",
       "    <tr>\n",
       "      <th>19</th>\n",
       "      <td>37</td>\n",
       "      <td>The number $3797$ has an interesting property....</td>\n",
       "      <td>7.483170e+05</td>\n",
       "      <td>\\nimport eulerlib, itertools\\n\\n\\ndef compute(...</td>\n",
       "    </tr>\n",
       "    <tr>\n",
       "      <th>20</th>\n",
       "      <td>39</td>\n",
       "      <td>If $p$ is the perimeter of a right angle trian...</td>\n",
       "      <td>8.400000e+02</td>\n",
       "      <td>\\n\\ndef compute():\\n\\tans = max(range(1, 1001)...</td>\n",
       "    </tr>\n",
       "    <tr>\n",
       "      <th>21</th>\n",
       "      <td>41</td>\n",
       "      <td>We shall say that an $n$-digit number is pandi...</td>\n",
       "      <td>7.652413e+06</td>\n",
       "      <td>\\nimport eulerlib\\n\\n\\ndef compute():\\n\\t# Not...</td>\n",
       "    </tr>\n",
       "    <tr>\n",
       "      <th>22</th>\n",
       "      <td>48</td>\n",
       "      <td>The series, $1^1 + 2^2 + 3^3 + \\cdots + 10^{10...</td>\n",
       "      <td>9.110847e+09</td>\n",
       "      <td>\\n\\ndef compute():\\n\\tMOD = 10**10\\n\\tans = su...</td>\n",
       "    </tr>\n",
       "    <tr>\n",
       "      <th>23</th>\n",
       "      <td>50</td>\n",
       "      <td>The prime $41$, can be written as the sum of s...</td>\n",
       "      <td>9.976510e+05</td>\n",
       "      <td>\\nimport eulerlib\\n\\n\\ndef compute():\\n\\tans =...</td>\n",
       "    </tr>\n",
       "    <tr>\n",
       "      <th>24</th>\n",
       "      <td>52</td>\n",
       "      <td>It can be seen that the number, $125874$, and ...</td>\n",
       "      <td>1.428570e+05</td>\n",
       "      <td>\\nimport itertools\\n\\n\\ndef compute():\\n\\tcond...</td>\n",
       "    </tr>\n",
       "    <tr>\n",
       "      <th>25</th>\n",
       "      <td>56</td>\n",
       "      <td>A googol ($10^{100}$) is a massive number: one...</td>\n",
       "      <td>9.720000e+02</td>\n",
       "      <td>\\n\\ndef compute():\\n\\tans = max(sum(int(c) for...</td>\n",
       "    </tr>\n",
       "    <tr>\n",
       "      <th>26</th>\n",
       "      <td>60</td>\n",
       "      <td>The primes $3$, $7$, $109$, and $673$, are qui...</td>\n",
       "      <td>2.603300e+04</td>\n",
       "      <td>\\nimport eulerlib, functools, math\\n\\n\\ndef co...</td>\n",
       "    </tr>\n",
       "    <tr>\n",
       "      <th>27</th>\n",
       "      <td>62</td>\n",
       "      <td>The cube, $41063625$ ($345^3$), can be permute...</td>\n",
       "      <td>1.270360e+11</td>\n",
       "      <td>\\nimport itertools\\n\\n\\ndef compute():\\n\\tnumd...</td>\n",
       "    </tr>\n",
       "    <tr>\n",
       "      <th>28</th>\n",
       "      <td>63</td>\n",
       "      <td>The $5$-digit number, $16807=7^5$, is also a f...</td>\n",
       "      <td>4.900000e+01</td>\n",
       "      <td>\\n\\ndef compute():\\n\\tans = sum(1\\n\\t\\tfor i i...</td>\n",
       "    </tr>\n",
       "    <tr>\n",
       "      <th>29</th>\n",
       "      <td>76</td>\n",
       "      <td>It is possible to write five as a sum in exact...</td>\n",
       "      <td>1.905693e+08</td>\n",
       "      <td>\\n\\ndef compute():\\n\\tLIMIT = 100\\n\\tpartition...</td>\n",
       "    </tr>\n",
       "    <tr>\n",
       "      <th>30</th>\n",
       "      <td>77</td>\n",
       "      <td>It is possible to write ten as the sum of prim...</td>\n",
       "      <td>7.100000e+01</td>\n",
       "      <td>\\nimport eulerlib, itertools\\n\\n\\ndef compute(...</td>\n",
       "    </tr>\n",
       "    <tr>\n",
       "      <th>31</th>\n",
       "      <td>79</td>\n",
       "      <td>A common security method used for online banki...</td>\n",
       "      <td>7.316289e+07</td>\n",
       "      <td>\\nimport itertools\\n\\n\\ndef compute():\\n\\t# On...</td>\n",
       "    </tr>\n",
       "    <tr>\n",
       "      <th>32</th>\n",
       "      <td>80</td>\n",
       "      <td>It is well known that if the square root of a ...</td>\n",
       "      <td>4.088600e+04</td>\n",
       "      <td>\\nimport math\\n\\n\\ndef compute():\\n\\tDIGITS = ...</td>\n",
       "    </tr>\n",
       "    <tr>\n",
       "      <th>33</th>\n",
       "      <td>85</td>\n",
       "      <td>By counting carefully it can be seen that a re...</td>\n",
       "      <td>2.772000e+03</td>\n",
       "      <td>\\nimport math\\n\\n\\ndef compute():\\n\\tTARGET = ...</td>\n",
       "    </tr>\n",
       "    <tr>\n",
       "      <th>34</th>\n",
       "      <td>94</td>\n",
       "      <td>It is easily proved that no equilateral triang...</td>\n",
       "      <td>5.184083e+08</td>\n",
       "      <td>\\nimport math, itertools\\n\\n\\ndef compute():\\n...</td>\n",
       "    </tr>\n",
       "    <tr>\n",
       "      <th>35</th>\n",
       "      <td>114</td>\n",
       "      <td>A row measuring seven units in length has red ...</td>\n",
       "      <td>1.647564e+10</td>\n",
       "      <td>\\n\\n\\t\\ndef compute():\\n\\t# Dynamic programmin...</td>\n",
       "    </tr>\n",
       "    <tr>\n",
       "      <th>36</th>\n",
       "      <td>117</td>\n",
       "      <td>Using a combination of grey square tiles and o...</td>\n",
       "      <td>1.008085e+14</td>\n",
       "      <td>\\n\\ndef compute():\\n\\t# Dynamic programming\\n\\...</td>\n",
       "    </tr>\n",
       "    <tr>\n",
       "      <th>37</th>\n",
       "      <td>118</td>\n",
       "      <td>Using all of the digits $1$ through $9$ and co...</td>\n",
       "      <td>4.468000e+04</td>\n",
       "      <td>\\nimport eulerlib\\n\\n\\ndef compute():\\n\\tispri...</td>\n",
       "    </tr>\n",
       "    <tr>\n",
       "      <th>38</th>\n",
       "      <td>119</td>\n",
       "      <td>The number $512$ is interesting because it is ...</td>\n",
       "      <td>2.481558e+14</td>\n",
       "      <td>\\nimport itertools\\n\\n\\ndef compute():\\n\\tINDE...</td>\n",
       "    </tr>\n",
       "    <tr>\n",
       "      <th>39</th>\n",
       "      <td>132</td>\n",
       "      <td>A number consisting entirely of ones is called...</td>\n",
       "      <td>8.432960e+05</td>\n",
       "      <td>\\nimport eulerlib, itertools\\n\\n\\ndef compute(...</td>\n",
       "    </tr>\n",
       "    <tr>\n",
       "      <th>40</th>\n",
       "      <td>142</td>\n",
       "      <td>Find the smallest $x + y + z$ with integers $x...</td>\n",
       "      <td>1.006193e+06</td>\n",
       "      <td>\\nimport itertools, math\\n\\n\\ndef compute():\\n...</td>\n",
       "    </tr>\n",
       "    <tr>\n",
       "      <th>41</th>\n",
       "      <td>146</td>\n",
       "      <td>The smallest positive integer $n$ for which th...</td>\n",
       "      <td>6.763333e+08</td>\n",
       "      <td>\\nimport eulerlib, math\\n\\n\\ndef compute():\\n\\...</td>\n",
       "    </tr>\n",
       "    <tr>\n",
       "      <th>42</th>\n",
       "      <td>160</td>\n",
       "      <td>For any $N$, let $f(N)$ be the last five digit...</td>\n",
       "      <td>1.657600e+04</td>\n",
       "      <td>\\n\\ndef compute():\\n\\tans = factorial_suffix(1...</td>\n",
       "    </tr>\n",
       "    <tr>\n",
       "      <th>43</th>\n",
       "      <td>164</td>\n",
       "      <td>How many $20$ digit numbers $n$ (without any l...</td>\n",
       "      <td>3.781588e+14</td>\n",
       "      <td>\\n\\ndef compute():\\n\\tBASE = 10\\n\\tDIGITS = 20...</td>\n",
       "    </tr>\n",
       "    <tr>\n",
       "      <th>44</th>\n",
       "      <td>172</td>\n",
       "      <td>How many $18$-digit numbers $n$ (without leadi...</td>\n",
       "      <td>2.274853e+17</td>\n",
       "      <td>\\nimport math\\n\\n\\nLENGTH = 18    # &gt;= 1\\nMAX_...</td>\n",
       "    </tr>\n",
       "    <tr>\n",
       "      <th>45</th>\n",
       "      <td>173</td>\n",
       "      <td>We shall define a square lamina to be a square...</td>\n",
       "      <td>1.572729e+06</td>\n",
       "      <td>\\n\\ndef compute():\\n\\tTILES = 10**6\\n\\tans = 0...</td>\n",
       "    </tr>\n",
       "    <tr>\n",
       "      <th>46</th>\n",
       "      <td>178</td>\n",
       "      <td>Consider the number $45656$. \\nIt can be seen ...</td>\n",
       "      <td>1.264618e+11</td>\n",
       "      <td>\\nimport functools\\n\\n\\ndef compute():\\n\\tLIMI...</td>\n",
       "    </tr>\n",
       "    <tr>\n",
       "      <th>47</th>\n",
       "      <td>179</td>\n",
       "      <td>Find the number of integers $1 \\lt n \\lt 10^7$...</td>\n",
       "      <td>9.862620e+05</td>\n",
       "      <td>\\n\\ndef compute():\\n\\tdivisors = [2] * (10**7 ...</td>\n",
       "    </tr>\n",
       "    <tr>\n",
       "      <th>48</th>\n",
       "      <td>187</td>\n",
       "      <td>A composite is a number containing at least tw...</td>\n",
       "      <td>1.742726e+07</td>\n",
       "      <td>\\nimport eulerlib, math\\n\\n\\ndef compute():\\n\\...</td>\n",
       "    </tr>\n",
       "    <tr>\n",
       "      <th>49</th>\n",
       "      <td>206</td>\n",
       "      <td>Find the unique positive integer whose square ...</td>\n",
       "      <td>1.389019e+09</td>\n",
       "      <td>\\n\\ndef compute():\\n\\t# Initialize\\n\\tn = 1000...</td>\n",
       "    </tr>\n",
       "    <tr>\n",
       "      <th>50</th>\n",
       "      <td>208</td>\n",
       "      <td>A robot moves in a series of one-fifth circula...</td>\n",
       "      <td>3.319514e+17</td>\n",
       "      <td>\\n\\ndef compute():\\n\\tLIMIT = 70\\n\\t\\n\\t# Retu...</td>\n",
       "    </tr>\n",
       "    <tr>\n",
       "      <th>51</th>\n",
       "      <td>211</td>\n",
       "      <td>For a positive integer $n$, let $\\sigma_2(n)$ ...</td>\n",
       "      <td>1.922365e+09</td>\n",
       "      <td>\\nimport array, eulerlib, math\\n\\n\\ndef comput...</td>\n",
       "    </tr>\n",
       "    <tr>\n",
       "      <th>52</th>\n",
       "      <td>222</td>\n",
       "      <td>What is the length of the shortest pipe, of in...</td>\n",
       "      <td>1.590933e+06</td>\n",
       "      <td>\\nimport eulerlib, math\\n\\n\\ndef compute():\\n\\...</td>\n",
       "    </tr>\n",
       "    <tr>\n",
       "      <th>53</th>\n",
       "      <td>231</td>\n",
       "      <td>The binomial coefficient $\\displaystyle \\binom...</td>\n",
       "      <td>7.526965e+12</td>\n",
       "      <td>\\nimport eulerlib\\n\\n\\ndef compute():\\n\\tN = 2...</td>\n",
       "    </tr>\n",
       "    <tr>\n",
       "      <th>54</th>\n",
       "      <td>249</td>\n",
       "      <td>Let $S = \\{2, 3, 5, \\dots, 4999\\}$ be the set ...</td>\n",
       "      <td>9.275263e+15</td>\n",
       "      <td>\\nimport eulerlib\\n\\n\\ndef compute():\\n\\tLIMIT...</td>\n",
       "    </tr>\n",
       "    <tr>\n",
       "      <th>55</th>\n",
       "      <td>250</td>\n",
       "      <td>Find the number of non-empty subsets of $\\{1^1...</td>\n",
       "      <td>1.425481e+15</td>\n",
       "      <td>\\n\\ndef compute():\\n\\t# Use dynamic programmin...</td>\n",
       "    </tr>\n",
       "    <tr>\n",
       "      <th>56</th>\n",
       "      <td>357</td>\n",
       "      <td>\\nConsider the divisors of $30$: $1,2,3,5,6,10...</td>\n",
       "      <td>1.739024e+12</td>\n",
       "      <td>\\nimport eulerlib, math\\n\\n\\ndef compute():\\n\\...</td>\n",
       "    </tr>\n",
       "    <tr>\n",
       "      <th>57</th>\n",
       "      <td>500</td>\n",
       "      <td>The number of divisors of $120$ is $16$.\\nIn f...</td>\n",
       "      <td>3.540728e+07</td>\n",
       "      <td>\\nimport eulerlib, heapq\\n\\n\\ndef compute():\\n...</td>\n",
       "    </tr>\n",
       "  </tbody>\n",
       "</table>\n",
       "</div>"
      ],
      "text/plain": [
       "    idx                                           question        answer  \\\n",
       "0     1  If we list all the natural numbers below $10$ ...  2.331680e+05   \n",
       "1     2  Each new term in the Fibonacci sequence is gen...  4.613732e+06   \n",
       "2     3  The prime factors of $13195$ are $5, 7, 13$ an...  6.857000e+03   \n",
       "3     4  A palindromic number reads the same both ways....  9.066090e+05   \n",
       "4     5  $2520$ is the smallest number that can be divi...  2.327926e+08   \n",
       "5     6  The sum of the squares of the first ten natura...  2.516415e+07   \n",
       "6     7  By listing the first six prime numbers: $2, 3,...  1.047430e+05   \n",
       "7     9  A Pythagorean triplet is a set of three natura...  3.187500e+07   \n",
       "8    10  The sum of the primes below $10$ is $2 + 3 + 5...  1.429138e+11   \n",
       "9    15  Starting in the top left corner of a $2 \\times...  1.378465e+11   \n",
       "10   16  $2^{15} = 32768$ and the sum of its digits is ...  1.366000e+03   \n",
       "11   19  \\nYou are given the following information, but...  1.710000e+02   \n",
       "12   20  $n!$ means $n \\times (n - 1) \\times \\cdots \\ti...  6.480000e+02   \n",
       "13   24  A permutation is an ordered arrangement of obj...  2.783915e+09   \n",
       "14   28  Starting with the number $1$ and moving to the...  6.691710e+08   \n",
       "15   31  In the United Kingdom the currency is made up ...  7.368200e+04   \n",
       "16   34  $145$ is a curious number, as $1! + 4! + 5! = ...  4.073000e+04   \n",
       "17   35  The number, $197$, is called a circular prime ...  5.500000e+01   \n",
       "18   36  The decimal number, $585 = 1001001001_2$ (bina...  8.721870e+05   \n",
       "19   37  The number $3797$ has an interesting property....  7.483170e+05   \n",
       "20   39  If $p$ is the perimeter of a right angle trian...  8.400000e+02   \n",
       "21   41  We shall say that an $n$-digit number is pandi...  7.652413e+06   \n",
       "22   48  The series, $1^1 + 2^2 + 3^3 + \\cdots + 10^{10...  9.110847e+09   \n",
       "23   50  The prime $41$, can be written as the sum of s...  9.976510e+05   \n",
       "24   52  It can be seen that the number, $125874$, and ...  1.428570e+05   \n",
       "25   56  A googol ($10^{100}$) is a massive number: one...  9.720000e+02   \n",
       "26   60  The primes $3$, $7$, $109$, and $673$, are qui...  2.603300e+04   \n",
       "27   62  The cube, $41063625$ ($345^3$), can be permute...  1.270360e+11   \n",
       "28   63  The $5$-digit number, $16807=7^5$, is also a f...  4.900000e+01   \n",
       "29   76  It is possible to write five as a sum in exact...  1.905693e+08   \n",
       "30   77  It is possible to write ten as the sum of prim...  7.100000e+01   \n",
       "31   79  A common security method used for online banki...  7.316289e+07   \n",
       "32   80  It is well known that if the square root of a ...  4.088600e+04   \n",
       "33   85  By counting carefully it can be seen that a re...  2.772000e+03   \n",
       "34   94  It is easily proved that no equilateral triang...  5.184083e+08   \n",
       "35  114  A row measuring seven units in length has red ...  1.647564e+10   \n",
       "36  117  Using a combination of grey square tiles and o...  1.008085e+14   \n",
       "37  118  Using all of the digits $1$ through $9$ and co...  4.468000e+04   \n",
       "38  119  The number $512$ is interesting because it is ...  2.481558e+14   \n",
       "39  132  A number consisting entirely of ones is called...  8.432960e+05   \n",
       "40  142  Find the smallest $x + y + z$ with integers $x...  1.006193e+06   \n",
       "41  146  The smallest positive integer $n$ for which th...  6.763333e+08   \n",
       "42  160  For any $N$, let $f(N)$ be the last five digit...  1.657600e+04   \n",
       "43  164  How many $20$ digit numbers $n$ (without any l...  3.781588e+14   \n",
       "44  172  How many $18$-digit numbers $n$ (without leadi...  2.274853e+17   \n",
       "45  173  We shall define a square lamina to be a square...  1.572729e+06   \n",
       "46  178  Consider the number $45656$. \\nIt can be seen ...  1.264618e+11   \n",
       "47  179  Find the number of integers $1 \\lt n \\lt 10^7$...  9.862620e+05   \n",
       "48  187  A composite is a number containing at least tw...  1.742726e+07   \n",
       "49  206  Find the unique positive integer whose square ...  1.389019e+09   \n",
       "50  208  A robot moves in a series of one-fifth circula...  3.319514e+17   \n",
       "51  211  For a positive integer $n$, let $\\sigma_2(n)$ ...  1.922365e+09   \n",
       "52  222  What is the length of the shortest pipe, of in...  1.590933e+06   \n",
       "53  231  The binomial coefficient $\\displaystyle \\binom...  7.526965e+12   \n",
       "54  249  Let $S = \\{2, 3, 5, \\dots, 4999\\}$ be the set ...  9.275263e+15   \n",
       "55  250  Find the number of non-empty subsets of $\\{1^1...  1.425481e+15   \n",
       "56  357  \\nConsider the divisors of $30$: $1,2,3,5,6,10...  1.739024e+12   \n",
       "57  500  The number of divisors of $120$ is $16$.\\nIn f...  3.540728e+07   \n",
       "\n",
       "                                          python_code  \n",
       "0   \\n\\ndef compute():\\n\\tans = sum(x for x in ran...  \n",
       "1   \\n\\ndef compute():\\n\\tans = 0\\n\\tx = 1  # Repr...  \n",
       "2   \\nimport math\\n\\n\\ndef compute():\\n\\tn = 60085...  \n",
       "3   \\n\\ndef compute():\\n\\tans = max(i * j\\n\\t\\tfor...  \n",
       "4   \\nimport math\\n\\n\\ndef compute():\\n\\tans = mat...  \n",
       "5   \\n\\ndef compute():\\n\\tN = 100\\n\\ts = sum(i for...  \n",
       "6   \\nimport eulerlib, itertools\\n\\n\\ndef compute(...  \n",
       "7   \\n\\ndef compute():\\n\\tPERIMETER = 1000\\n\\tfor ...  \n",
       "8   \\nimport eulerlib\\n\\n\\ndef compute():\\n\\tans =...  \n",
       "9   \\nimport math\\n\\n\\ndef compute():\\n\\treturn st...  \n",
       "10  \\n\\ndef compute():\\n\\tn = 2**1000\\n\\tans = sum...  \n",
       "11  \\nimport datetime\\n\\n\\ndef compute():\\n\\tans =...  \n",
       "12  \\nimport math\\n\\n\\ndef compute():\\n\\tn = math....  \n",
       "13  \\nimport itertools\\n\\n\\ndef compute():\\n\\tarr ...  \n",
       "14  \\n\\ndef compute():\\n\\tSIZE = 1001  # Must be o...  \n",
       "15  \\n\\ndef compute():\\n\\tTOTAL = 200\\n\\t\\n\\t# At ...  \n",
       "16  \\nimport math\\n\\n\\ndef compute():\\n\\t# As stat...  \n",
       "17  \\nimport eulerlib\\n\\n\\ndef compute():\\n\\tispri...  \n",
       "18  \\n\\ndef compute():\\n\\tans = sum(i for i in ran...  \n",
       "19  \\nimport eulerlib, itertools\\n\\n\\ndef compute(...  \n",
       "20  \\n\\ndef compute():\\n\\tans = max(range(1, 1001)...  \n",
       "21  \\nimport eulerlib\\n\\n\\ndef compute():\\n\\t# Not...  \n",
       "22  \\n\\ndef compute():\\n\\tMOD = 10**10\\n\\tans = su...  \n",
       "23  \\nimport eulerlib\\n\\n\\ndef compute():\\n\\tans =...  \n",
       "24  \\nimport itertools\\n\\n\\ndef compute():\\n\\tcond...  \n",
       "25  \\n\\ndef compute():\\n\\tans = max(sum(int(c) for...  \n",
       "26  \\nimport eulerlib, functools, math\\n\\n\\ndef co...  \n",
       "27  \\nimport itertools\\n\\n\\ndef compute():\\n\\tnumd...  \n",
       "28  \\n\\ndef compute():\\n\\tans = sum(1\\n\\t\\tfor i i...  \n",
       "29  \\n\\ndef compute():\\n\\tLIMIT = 100\\n\\tpartition...  \n",
       "30  \\nimport eulerlib, itertools\\n\\n\\ndef compute(...  \n",
       "31  \\nimport itertools\\n\\n\\ndef compute():\\n\\t# On...  \n",
       "32  \\nimport math\\n\\n\\ndef compute():\\n\\tDIGITS = ...  \n",
       "33  \\nimport math\\n\\n\\ndef compute():\\n\\tTARGET = ...  \n",
       "34  \\nimport math, itertools\\n\\n\\ndef compute():\\n...  \n",
       "35  \\n\\n\\t\\ndef compute():\\n\\t# Dynamic programmin...  \n",
       "36  \\n\\ndef compute():\\n\\t# Dynamic programming\\n\\...  \n",
       "37  \\nimport eulerlib\\n\\n\\ndef compute():\\n\\tispri...  \n",
       "38  \\nimport itertools\\n\\n\\ndef compute():\\n\\tINDE...  \n",
       "39  \\nimport eulerlib, itertools\\n\\n\\ndef compute(...  \n",
       "40  \\nimport itertools, math\\n\\n\\ndef compute():\\n...  \n",
       "41  \\nimport eulerlib, math\\n\\n\\ndef compute():\\n\\...  \n",
       "42  \\n\\ndef compute():\\n\\tans = factorial_suffix(1...  \n",
       "43  \\n\\ndef compute():\\n\\tBASE = 10\\n\\tDIGITS = 20...  \n",
       "44  \\nimport math\\n\\n\\nLENGTH = 18    # >= 1\\nMAX_...  \n",
       "45  \\n\\ndef compute():\\n\\tTILES = 10**6\\n\\tans = 0...  \n",
       "46  \\nimport functools\\n\\n\\ndef compute():\\n\\tLIMI...  \n",
       "47  \\n\\ndef compute():\\n\\tdivisors = [2] * (10**7 ...  \n",
       "48  \\nimport eulerlib, math\\n\\n\\ndef compute():\\n\\...  \n",
       "49  \\n\\ndef compute():\\n\\t# Initialize\\n\\tn = 1000...  \n",
       "50  \\n\\ndef compute():\\n\\tLIMIT = 70\\n\\t\\n\\t# Retu...  \n",
       "51  \\nimport array, eulerlib, math\\n\\n\\ndef comput...  \n",
       "52  \\nimport eulerlib, math\\n\\n\\ndef compute():\\n\\...  \n",
       "53  \\nimport eulerlib\\n\\n\\ndef compute():\\n\\tN = 2...  \n",
       "54  \\nimport eulerlib\\n\\n\\ndef compute():\\n\\tLIMIT...  \n",
       "55  \\n\\ndef compute():\\n\\t# Use dynamic programmin...  \n",
       "56  \\nimport eulerlib, math\\n\\n\\ndef compute():\\n\\...  \n",
       "57  \\nimport eulerlib, heapq\\n\\n\\ndef compute():\\n...  "
      ]
     },
     "execution_count": 4,
     "metadata": {},
     "output_type": "execute_result"
    }
   ],
   "source": [
    "print(df.shape)\n",
    "df"
   ]
  },
  {
   "cell_type": "markdown",
   "metadata": {},
   "source": [
    "# Test GPT"
   ]
  },
  {
   "cell_type": "code",
   "execution_count": 5,
   "metadata": {},
   "outputs": [],
   "source": [
    "import GPTAgent\n",
    "importlib.reload(GPTAgent)\n",
    "gpt_agent = GPTAgent.GPTAgent()"
   ]
  },
  {
   "cell_type": "code",
   "execution_count": 6,
   "metadata": {},
   "outputs": [
    {
     "ename": "AssertionError",
     "evalue": "",
     "output_type": "error",
     "traceback": [
      "\u001b[1;31m---------------------------------------------------------------------------\u001b[0m",
      "\u001b[1;31mAssertionError\u001b[0m                            Traceback (most recent call last)",
      "Cell \u001b[1;32mIn[6], line 1\u001b[0m\n\u001b[1;32m----> 1\u001b[0m response_string \u001b[38;5;241m=\u001b[39m gpt_agent\u001b[38;5;241m.\u001b[39mgenerate_chain_of_thoughts(\u001b[43mproblem_set_reader\u001b[49m\u001b[38;5;241;43m.\u001b[39;49m\u001b[43mget_question\u001b[49m\u001b[43m(\u001b[49m\u001b[38;5;241;43m125\u001b[39;49m\u001b[43m)\u001b[49m)\n\u001b[0;32m      2\u001b[0m procedures \u001b[38;5;241m=\u001b[39m response_string\u001b[38;5;241m.\u001b[39msplit(\u001b[38;5;124m\"\u001b[39m\u001b[38;5;130;01m\\n\u001b[39;00m\u001b[38;5;124m\"\u001b[39m)\n\u001b[0;32m      3\u001b[0m procedures\n",
      "File \u001b[1;32mg:\\My Drive\\Chronical\\2024_04\\NaturalLanguageProcessing\\TermCode\\ProblemSetReader.py:39\u001b[0m, in \u001b[0;36mProblemSetReader.get_question\u001b[1;34m(self, idx)\u001b[0m\n\u001b[0;32m     30\u001b[0m \u001b[38;5;28;01mdef\u001b[39;00m \u001b[38;5;21mget_question\u001b[39m(\u001b[38;5;28mself\u001b[39m, idx):\n\u001b[0;32m     31\u001b[0m \u001b[38;5;250m    \u001b[39m\u001b[38;5;124;03m\"\"\"Get the question for problem {idx}\u001b[39;00m\n\u001b[0;32m     32\u001b[0m \n\u001b[0;32m     33\u001b[0m \u001b[38;5;124;03m    Args:\u001b[39;00m\n\u001b[1;32m   (...)\u001b[0m\n\u001b[0;32m     37\u001b[0m \u001b[38;5;124;03m        str: the question\u001b[39;00m\n\u001b[0;32m     38\u001b[0m \u001b[38;5;124;03m    \"\"\"\u001b[39;00m\n\u001b[1;32m---> 39\u001b[0m     \u001b[38;5;28;01massert\u001b[39;00m idx \u001b[38;5;129;01min\u001b[39;00m \u001b[38;5;28mself\u001b[39m\u001b[38;5;241m.\u001b[39mavailable_indicies_set\n\u001b[0;32m     40\u001b[0m     \u001b[38;5;28;01mreturn\u001b[39;00m \u001b[38;5;28mself\u001b[39m\u001b[38;5;241m.\u001b[39mdataframe[\u001b[38;5;28mself\u001b[39m\u001b[38;5;241m.\u001b[39mdataframe[\u001b[38;5;124m\"\u001b[39m\u001b[38;5;124midx\u001b[39m\u001b[38;5;124m\"\u001b[39m] \u001b[38;5;241m==\u001b[39m idx][\u001b[38;5;124m\"\u001b[39m\u001b[38;5;124mquestion\u001b[39m\u001b[38;5;124m\"\u001b[39m]\u001b[38;5;241m.\u001b[39mvalues[\u001b[38;5;241m0\u001b[39m]\n",
      "\u001b[1;31mAssertionError\u001b[0m: "
     ]
    }
   ],
   "source": [
    "response_string = gpt_agent.generate_chain_of_thoughts(problem_set_reader.get_question(125))\n",
    "procedures = response_string.split(\"\\n\")\n",
    "procedures"
   ]
  },
  {
   "cell_type": "code",
   "execution_count": null,
   "metadata": {},
   "outputs": [
    {
     "data": {
      "text/plain": [
       "\"I'm sorry, but I don't have the ability to recall past interactions or questions from previous conversations. Each session with me is independent, and I treat every interaction as a new encounter. How may I assist you today?\\n\""
      ]
     },
     "execution_count": 130,
     "metadata": {},
     "output_type": "execute_result"
    }
   ],
   "source": [
    "from g4f.client import Client\n",
    "\n",
    "client = Client()\n",
    "response = client.chat.completions.create(\n",
    "    model=\"gpt-4\",\n",
    "    messages=[{\"role\": \"system\", \"content\": \"Only respond in English.\"},\n",
    "              {\"role\": \"user\", \"content\": \"How to make a cup of tea?\"}, \n",
    "              {\"role\": \"assistant\", \"content\": \"Simply boil water and add tea.\"}, \n",
    "              {\"role\": \"user\", \"content\": \"What is the last question I asked you?\"}],\n",
    ")\n",
    "response.choices[0].message.content"
   ]
  },
  {
   "cell_type": "code",
   "execution_count": null,
   "metadata": {},
   "outputs": [
    {
     "name": "stdout",
     "output_type": "stream",
     "text": [
      "```\n",
      "python\n",
      "problem_statement = input(\"请输入问题描述：\")\n",
      "required_input_output = input(\"请输入所需输入输出：\")\n",
      "```\n",
      "```python\n",
      "for i in range(1, 10**8 + 1):\n",
      "    if str(i) == str(i)[::-1]:\n",
      "        print(i)\n",
      "```\n",
      "```python\n",
      "import itertools\n",
      "for i in range(1, 10**8 + 1):\n",
      "    if str(i) == str(i)[::-1]:\n",
      "        for r in range(1, int(i**0.5) + 1):\n",
      "            for combo in itertools.combinations(range(1, r + 1), r):\n",
      "                if sum(j**2 for j in combo) == i:\n",
      "                    print(f\"{i} = {'+'.join(str(j**2) for j in combo)}\")\n",
      "```\n",
      "```python\n",
      "for i in range(1, 10**8 + 1):\n",
      "    if str(i) == str(i)[::-1] and i!= 2 and any(sum(j**2 for j in range(a, b)) == i for a in range(1, int(i**0.5) + 1) for b in range(a, int(i**0.5) + 2)):\n",
      "        print(i)\n",
      "```\n",
      "```python\n",
      "sum_of_palindromes = sum(i for i in range(1, 10**8 + 1) if str(i) == str(i)[::-1] and any(sum(j**2 for j in range(a, b)) == i for a in range(1, int(i**0.5) + 1) for b in range(a, int(i**0.5) + 2)) and i != 1)\n",
      "print(sum_of_palindromes)\n",
      "```\n"
     ]
    }
   ],
   "source": [
    "messages = []\n",
    "\n",
    "for step_description in procedures:\n",
    "    prompt = f\"Generate at most two line of python code (packed by ```python {{python_code}}```) for this step (and only this step): {step_description}. \\\n",
    "        Directly output the code without explaination, output space to indent if necessary\"\n",
    "\n",
    "    messages.append({\"role\": \"user\", \"content\": prompt})\n",
    "    response = client.chat.completions.create(\n",
    "        model=\"gpt-3.5-turbo\",\n",
    "        messages=messages\n",
    "    )\n",
    "    ret_string = response.choices[0].message.content\n",
    "    print(ret_string)\n",
    "    messages.append({\"role\": \"assistant\", \"content\": ret_string})"
   ]
  },
  {
   "cell_type": "code",
   "execution_count": null,
   "metadata": {},
   "outputs": [
    {
     "data": {
      "text/plain": [
       "['```\\npython\\nproblem_statement = input(\"请输入问题描述：\")\\nrequired_input_output = input(\"请输入所需输入输出：\")\\n```',\n",
       " '```python\\nfor i in range(1, 10**8 + 1):\\n    if str(i) == str(i)[::-1]:\\n        print(i)\\n```',\n",
       " '```python\\nimport itertools\\nfor i in range(1, 10**8 + 1):\\n    if str(i) == str(i)[::-1]:\\n        for r in range(1, int(i**0.5) + 1):\\n            for combo in itertools.combinations(range(1, r + 1), r):\\n                if sum(j**2 for j in combo) == i:\\n                    print(f\"{i} = {\\'+\\'.join(str(j**2) for j in combo)}\")\\n```',\n",
       " '```python\\nfor i in range(1, 10**8 + 1):\\n    if str(i) == str(i)[::-1] and i!= 2 and any(sum(j**2 for j in range(a, b)) == i for a in range(1, int(i**0.5) + 1) for b in range(a, int(i**0.5) + 2)):\\n        print(i)\\n```',\n",
       " '```python\\nsum_of_palindromes = sum(i for i in range(1, 10**8 + 1) if str(i) == str(i)[::-1] and any(sum(j**2 for j in range(a, b)) == i for a in range(1, int(i**0.5) + 1) for b in range(a, int(i**0.5) + 2)) and i != 1)\\nprint(sum_of_palindromes)\\n```']"
      ]
     },
     "execution_count": 128,
     "metadata": {},
     "output_type": "execute_result"
    }
   ],
   "source": [
    "raw_code = [messages['content'] for messages in messages if messages['role']=='assistant']\n",
    "raw_code"
   ]
  },
  {
   "cell_type": "code",
   "execution_count": null,
   "metadata": {},
   "outputs": [
    {
     "name": "stdout",
     "output_type": "stream",
     "text": [
      "\n",
      "for i in range(1, 10**8 + 1):\n",
      "    if str(i) == str(i)[::-1]:\n",
      "        print(i)\n",
      "\n",
      "import itertools\n",
      "for i in range(1, 10**8 + 1):\n",
      "    if str(i) == str(i)[::-1]:\n",
      "        for r in range(1, int(i**0.5) + 1):\n",
      "            for combo in itertools.combinations(range(1, r + 1), r):\n",
      "                if sum(j**2 for j in combo) == i:\n",
      "                    print(f\"{i} = {'+'.join(str(j**2) for j in combo)}\")\n",
      "\n",
      "for i in range(1, 10**8 + 1):\n",
      "    if str(i) == str(i)[::-1] and i!= 2 and any(sum(j**2 for j in range(a, b)) == i for a in range(1, int(i**0.5) + 1) for b in range(a, int(i**0.5) + 2)):\n",
      "        print(i)\n",
      "\n",
      "sum_of_palindromes = sum(i for i in range(1, 10**8 + 1) if str(i) == str(i)[::-1] and any(sum(j**2 for j in range(a, b)) == i for a in range(1, int(i**0.5) + 1) for b in range(a, int(i**0.5) + 2)) and i != 1)\n",
      "print(sum_of_palindromes)\n",
      "\n"
     ]
    }
   ],
   "source": [
    "pattern = r\"```python(.*?)```\"\n",
    "code_cleansed = [match.group(1) for match in re.finditer(pattern, '\\n'.join(raw_code), re.DOTALL)]\n",
    "code_concat = \"\".join(code_cleansed)\n",
    "print(code_concat)"
   ]
  },
  {
   "cell_type": "markdown",
   "metadata": {},
   "source": [
    "# Token Number Test"
   ]
  },
  {
   "cell_type": "code",
   "execution_count": 7,
   "metadata": {},
   "outputs": [
    {
     "name": "stderr",
     "output_type": "stream",
     "text": [
      "c:\\ProgramData\\anaconda3\\envs\\default\\lib\\site-packages\\torch\\_utils.py:776: UserWarning: TypedStorage is deprecated. It will be removed in the future and UntypedStorage will be the only storage class. This should only matter to you if you are using storages directly.  To access UntypedStorage directly, use tensor.untyped_storage() instead of tensor.storage()\n",
      "  return self.fget.__get__(instance, owner)()\n"
     ]
    }
   ],
   "source": [
    "import CodeGenAgent\n",
    "importlib.reload(CodeGenAgent)\n",
    "codegen_agent = CodeGenAgent.CodeGenAgent()"
   ]
  },
  {
   "cell_type": "code",
   "execution_count": 8,
   "metadata": {},
   "outputs": [
    {
     "name": "stderr",
     "output_type": "stream",
     "text": [
      "  0%|          | 0/206 [00:00<?, ?it/s]"
     ]
    },
    {
     "name": "stderr",
     "output_type": "stream",
     "text": [
      "  4%|▍         | 8/206 [00:00<00:02, 73.70it/s]Token indices sequence length is longer than the specified maximum sequence length for this model (2295 > 2048). Running this sequence through the model will result in indexing errors\n",
      "100%|██████████| 206/206 [00:01<00:00, 106.62it/s]\n"
     ]
    },
    {
     "data": {
      "image/png": "[encoded data removed]",
      "text/plain": [
       "<Figure size 640x480 with 1 Axes>"
      ]
     },
     "metadata": {},
     "output_type": "display_data"
    }
   ],
   "source": [
    "import tqdm\n",
    "lengths = []\n",
    "token_count = []\n",
    "for ques_doc in tqdm.tqdm(os.listdir(question_path)):\n",
    "    if not ques_doc.endswith(\".txt\"): continue\n",
    "    question = open(os.path.join(question_path, ques_doc)).read()\n",
    "    lengths.append(len(question))\n",
    "\n",
    "    token_out = codegen_agent.tokenizer(question, return_tensors=\"pt\")\n",
    "    token_count.append(token_out[\"input_ids\"].shape[1])\n",
    "\n",
    "\n",
    "# Draw histogram\n",
    "import matplotlib.pyplot as plt\n",
    "plt.hist(lengths, bins=100)\n",
    "plt.show()"
   ]
  },
  {
   "cell_type": "code",
   "execution_count": 9,
   "metadata": {},
   "outputs": [
    {
     "data": {
      "image/png": "[encoded data removed]",
      "text/plain": [
       "<Figure size 640x480 with 1 Axes>"
      ]
     },
     "metadata": {},
     "output_type": "display_data"
    }
   ],
   "source": [
    "# Draw histogram\n",
    "import matplotlib.pyplot as plt\n",
    "plt.hist(token_count, bins=100)\n",
    "plt.show()"
   ]
  },
  {
   "cell_type": "code",
   "execution_count": 15,
   "metadata": {},
   "outputs": [
    {
     "data": {
      "text/plain": [
       "144"
      ]
     },
     "execution_count": 15,
     "metadata": {},
     "output_type": "execute_result"
    }
   ],
   "source": [
    "len([i for i in token_count if i > 128])"
   ]
  },
  {
   "cell_type": "code",
   "execution_count": 13,
   "metadata": {},
   "outputs": [
    {
     "data": {
      "text/plain": [
       "111"
      ]
     },
     "execution_count": 13,
     "metadata": {},
     "output_type": "execute_result"
    }
   ],
   "source": [
    "len([i for i in lengths if i > 2048/4])"
   ]
  },
  {
   "cell_type": "code",
   "execution_count": 12,
   "metadata": {},
   "outputs": [
    {
     "data": {
      "text/plain": [
       "205"
      ]
     },
     "execution_count": 12,
     "metadata": {},
     "output_type": "execute_result"
    }
   ],
   "source": [
    "len(lengths)"
   ]
  },
  {
   "cell_type": "code",
   "execution_count": 66,
   "metadata": {},
   "outputs": [],
   "source": [
    "import CodeGenAgent\n",
    "importlib.reload(CodeGenAgent)\n",
    "codegen_agent = CodeGenAgent.CodeGenAgent()\n",
    "\n",
    "token_record = []\n",
    "for idx, row in df.iterrows():\n",
    "    tokens = codegen_agent.tokenizer(row['question'], return_tensors=\"pt\")\n",
    "    token_record.append(len(tokens['input_ids'][0]))"
   ]
  },
  {
   "cell_type": "code",
   "execution_count": 67,
   "metadata": {},
   "outputs": [
    {
     "data": {
      "image/png": "[encoded data removed]",
      "text/plain": [
       "<Figure size 640x480 with 1 Axes>"
      ]
     },
     "metadata": {},
     "output_type": "display_data"
    }
   ],
   "source": [
    "# Draw histogram\n",
    "import matplotlib.pyplot as plt\n",
    "plt.hist(token_record, bins=10)\n",
    "plt.show()"
   ]
  },
  {
   "cell_type": "code",
   "execution_count": 68,
   "metadata": {},
   "outputs": [
    {
     "data": {
      "text/plain": [
       "(128, 34)"
      ]
     },
     "execution_count": 68,
     "metadata": {},
     "output_type": "execute_result"
    }
   ],
   "source": [
    "max(token_record), min(token_record)"
   ]
  },
  {
   "cell_type": "markdown",
   "metadata": {},
   "source": [
    "# Test Generate K Choices"
   ]
  },
  {
   "cell_type": "code",
   "execution_count": 5,
   "metadata": {},
   "outputs": [
    {
     "name": "stderr",
     "output_type": "stream",
     "text": [
      "c:\\ProgramData\\anaconda3\\envs\\default\\lib\\site-packages\\torch\\_utils.py:776: UserWarning: TypedStorage is deprecated. It will be removed in the future and UntypedStorage will be the only storage class. This should only matter to you if you are using storages directly.  To access UntypedStorage directly, use tensor.untyped_storage() instead of tensor.storage()\n",
      "  return self.fget.__get__(instance, owner)()\n"
     ]
    }
   ],
   "source": [
    "import CodeGenAgent\n",
    "importlib.reload(CodeGenAgent)\n",
    "codegen_agent = CodeGenAgent.CodeGenAgent()"
   ]
  },
  {
   "cell_type": "code",
   "execution_count": 13,
   "metadata": {},
   "outputs": [
    {
     "data": {
      "text/plain": [
       "torch.Size([1, 69])"
      ]
     },
     "execution_count": 13,
     "metadata": {},
     "output_type": "execute_result"
    }
   ],
   "source": [
    "problem_string = problem_set_reader.get_question(1)\n",
    "token_out = codegen_agent.tokenizer([problem_string+\"\\\"\\\"\\\"\"], return_tensors=\"pt\").to(codegen_agent.device)\n",
    "token_out.input_ids.shape"
   ]
  },
  {
   "cell_type": "code",
   "execution_count": 14,
   "metadata": {},
   "outputs": [
    {
     "name": "stderr",
     "output_type": "stream",
     "text": [
      "Setting `pad_token_id` to `eos_token_id`:50256 for open-end generation.\n"
     ]
    }
   ],
   "source": [
    "completions = codegen_agent.model.generate(input_ids=token_out.input_ids,\n",
    "                                        attention_mask=token_out.attention_mask,\n",
    "                                        max_new_tokens=2048, \n",
    "                                        do_sample=True, \n",
    "                                        num_return_sequences=3)"
   ]
  },
  {
   "cell_type": "code",
   "execution_count": 20,
   "metadata": {},
   "outputs": [],
   "source": [
    "truncated = [complete[len(token_out.input_ids[0]):] for complete in completions]"
   ]
  },
  {
   "cell_type": "code",
   "execution_count": 25,
   "metadata": {},
   "outputs": [
    {
     "data": {
      "text/plain": [
       "['\\n\\n# the following functions are used to check whether a number is a multiple of 3 or 5\\ndef is_multiple_of_3(x):\\n    return x % 3 == 0\\n\\ndef is_multiple_of_5(x):\\n    return x % 5 == 0\\n\\n# The function checks whether a number x is an odd or even number and returns the sum of all the natural numbers below x\\n# The number x can be a multiple of 3 or 5. It gets a sum of the sum of all the natural numbers below x \\n# whose x is an multiple of 3 OR 5\\ndef sum_of_natural_numbers_below(x):\\n    y = 0\\n    for i in range(x):\\n        if is_multiple_of_3(i) or is_multiple_of_5(i):\\n            # if the number i is a multiple of 3 or 5, then it gets an additional sum\\n            y += i\\n    return y\\n\\n# The function sums up all the multiplication of 3 or 5 below x\\ndef multiply3and5below_x(x):\\n    y = 0\\n    for i in range(x):\\n        if is_multiple_of_3(i) or is_multiple_of_5(i):\\n            y += i * 3\\n        if is_multiple_of_3(i) or is_multiple_of_5(i):\\n            y += i * 5\\n\\n    # we take the sum of the sum of all the natural numbers below x that is a multiple of 3 or 5\\n    y += sum_of_natural_numbers_below(x)\\n    \\n    return y\\n\\n# main function\\ndef main():\\n    # the lower boundary for the code below\\n    low = 10\\n\\n    # upper boundary for the code below\\n    up = 1000\\n\\n    # sum of the multiplication of 3 or 5 below 10\\n    # to calculate the sum of the multiplication of 3 or 5 below 1000, set up two loops\\n    # range only goes to 1 less than the low boundary\\n    sum_3__5_below_10 = multiply3and5below_x(low)\\n    # range only goes to 1 less than the up boundary\\n    sum_3__5_below_100 = multiply3and5below_x(up)\\n\\n    # total sum of all the numbers and their multiplications\\n    print(\"Sum of all natural numbers below \" + str(low) + \" that are a multiple of 3 or 5: \" + str(sum_3__5_below_10))\\n    print(\"Sum of all natural numbers below \" + str(up) + \" that are a multiple of 3 or 5: \" + str(sum_3__5_below_100))\\n\\nmain()\\n    \\n\\n\\n\\n<|endoftext|>',\n",
       " '\\n\\nclass Solution:\\n    def compute(self, numbers, sum):\\n        total = 0\\n        for elt in numbers:\\n            if elt%sum == 0 or elt%3 == 0 or elt%5 == 0:\\n                total += elt\\n        return total\\n\\ns = Solution()\\n\\nprint(s.compute([3,5,6], 3)) # 13\\nprint(s.compute([3,5,6], 5)) # 19\\nprint(s.compute([2,3,4,5,6,7,8,9,10], 3)) # 18\\nprint(s.compute([3,3,5,5,8,8,11,11,10,10,10,11,12,15,18,21,22,23,24,25,26,27,28,29,30,32,33,35,37,38,41,43,47,50,52,55,57,59,60,64,66,68,69,72,74,76,78,79,80,81,82,86,88,89,90,92,95,97], 50)) # 1755\\n\\n\"\"\"\\nOne could potentially use a Python generator as well... e.g. a generator expression. I\\'d like to know if and\\nwhy, it\\'s not used for efficiency reasons.\\n\"\"\"<|endoftext|><|endoftext|><|endoftext|><|endoftext|><|endoftext|><|endoftext|><|endoftext|><|endoftext|><|endoftext|><|endoftext|><|endoftext|><|endoftext|><|endoftext|><|endoftext|><|endoftext|><|endoftext|><|endoftext|><|endoftext|><|endoftext|><|endoftext|><|endoftext|><|endoftext|><|endoftext|><|endoftext|><|endoftext|><|endoftext|><|endoftext|><|endoftext|><|endoftext|><|endoftext|><|endoftext|><|endoftext|><|endoftext|><|endoftext|><|endoftext|><|endoftext|><|endoftext|><|endoftext|><|endoftext|><|endoftext|><|endoftext|><|endoftext|><|endoftext|><|endoftext|><|endoftext|><|endoftext|><|endoftext|><|endoftext|><|endoftext|><|endoftext|><|endoftext|><|endoftext|><|endoftext|><|endoftext|><|endoftext|><|endoftext|><|endoftext|><|endoftext|><|endoftext|><|endoftext|><|endoftext|><|endoftext|><|endoftext|><|endoftext|><|endoftext|><|endoftext|><|endoftext|><|endoftext|><|endoftext|><|endoftext|><|endoftext|><|endoftext|><|endoftext|><|endoftext|><|endoftext|><|endoftext|><|endoftext|><|endoftext|><|endoftext|><|endoftext|><|endoftext|><|endoftext|><|endoftext|><|endoftext|><|endoftext|><|endoftext|><|endoftext|><|endoftext|><|endoftext|><|endoftext|><|endoftext|><|endoftext|><|endoftext|><|endoftext|><|endoftext|><|endoftext|><|endoftext|><|endoftext|><|endoftext|><|endoftext|><|endoftext|><|endoftext|><|endoftext|><|endoftext|><|endoftext|><|endoftext|><|endoftext|><|endoftext|><|endoftext|><|endoftext|><|endoftext|><|endoftext|><|endoftext|><|endoftext|><|endoftext|><|endoftext|><|endoftext|><|endoftext|><|endoftext|><|endoftext|><|endoftext|><|endoftext|><|endoftext|><|endoftext|><|endoftext|><|endoftext|><|endoftext|><|endoftext|><|endoftext|><|endoftext|><|endoftext|><|endoftext|><|endoftext|><|endoftext|><|endoftext|><|endoftext|><|endoftext|><|endoftext|><|endoftext|><|endoftext|><|endoftext|><|endoftext|><|endoftext|><|endoftext|><|endoftext|><|endoftext|><|endoftext|><|endoftext|><|endoftext|><|endoftext|><|endoftext|><|endoftext|><|endoftext|><|endoftext|><|endoftext|><|endoftext|><|endoftext|><|endoftext|><|endoftext|><|endoftext|><|endoftext|><|endoftext|><|endoftext|><|endoftext|><|endoftext|><|endoftext|><|endoftext|><|endoftext|><|endoftext|><|endoftext|><|endoftext|><|endoftext|><|endoftext|><|endoftext|><|endoftext|><|endoftext|><|endoftext|><|endoftext|><|endoftext|><|endoftext|><|endoftext|><|endoftext|><|endoftext|><|endoftext|><|endoftext|><|endoftext|><|endoftext|><|endoftext|><|endoftext|><|endoftext|><|endoftext|><|endoftext|><|endoftext|><|endoftext|><|endoftext|><|endoftext|><|endoftext|><|endoftext|><|endoftext|><|endoftext|><|endoftext|><|endoftext|><|endoftext|><|endoftext|><|endoftext|><|endoftext|><|endoftext|><|endoftext|><|endoftext|><|endoftext|><|endoftext|><|endoftext|><|endoftext|><|endoftext|><|endoftext|><|endoftext|><|endoftext|><|endoftext|><|endoftext|><|endoftext|><|endoftext|><|endoftext|><|endoftext|><|endoftext|><|endoftext|><|endoftext|><|endoftext|><|endoftext|><|endoftext|><|endoftext|><|endoftext|><|endoftext|><|endoftext|><|endoftext|><|endoftext|><|endoftext|><|endoftext|><|endoftext|><|endoftext|><|endoftext|><|endoftext|><|endoftext|><|endoftext|><|endoftext|><|endoftext|><|endoftext|><|endoftext|><|endoftext|><|endoftext|><|endoftext|><|endoftext|><|endoftext|><|endoftext|><|endoftext|><|endoftext|><|endoftext|><|endoftext|><|endoftext|><|endoftext|><|endoftext|><|endoftext|><|endoftext|><|endoftext|><|endoftext|><|endoftext|><|endoftext|><|endoftext|><|endoftext|><|endoftext|><|endoftext|><|endoftext|><|endoftext|><|endoftext|><|endoftext|><|endoftext|><|endoftext|><|endoftext|><|endoftext|><|endoftext|><|endoftext|><|endoftext|><|endoftext|><|endoftext|><|endoftext|><|endoftext|><|endoftext|><|endoftext|><|endoftext|><|endoftext|><|endoftext|><|endoftext|><|endoftext|><|endoftext|><|endoftext|><|endoftext|><|endoftext|><|endoftext|><|endoftext|><|endoftext|><|endoftext|><|endoftext|><|endoftext|>',\n",
       " '\\n\\n\\nclass Solution:\\n    def sum_multiples(self, lowerbound, upperbound, multiplier, sum_total):\\n        if not multiplier:\\n            return 0\\n\\n        lowerbound, upperbound = max(lowerbound, 0), min(upperbound, 1000)\\n        return (sum_total - sum(range(lowerbound, upperbound, multiplier)) +\\n                self.sum_multiples(lowerbound, upperbound, multiplier * (multiplier - 1), sum_total))\\n\\n\\ns = Solution()\\nprint(s.sum_multiples(1, 1000, 3, 1000))\\nprint(s.sum_multiples(0, 1000, 5, 1000))\\nprint(s.sum_multiples(0, 1000, 2, 1000))\\nprint(s.sum_multiples(lowerbound=0, upperbound=1000, multiplier=2, sum_total=1000))\\n<|endoftext|><|endoftext|><|endoftext|><|endoftext|><|endoftext|><|endoftext|><|endoftext|><|endoftext|><|endoftext|><|endoftext|><|endoftext|><|endoftext|><|endoftext|><|endoftext|><|endoftext|><|endoftext|><|endoftext|><|endoftext|><|endoftext|><|endoftext|><|endoftext|><|endoftext|><|endoftext|><|endoftext|><|endoftext|><|endoftext|><|endoftext|><|endoftext|><|endoftext|><|endoftext|><|endoftext|><|endoftext|><|endoftext|><|endoftext|><|endoftext|><|endoftext|><|endoftext|><|endoftext|><|endoftext|><|endoftext|><|endoftext|><|endoftext|><|endoftext|><|endoftext|><|endoftext|><|endoftext|><|endoftext|><|endoftext|><|endoftext|><|endoftext|><|endoftext|><|endoftext|><|endoftext|><|endoftext|><|endoftext|><|endoftext|><|endoftext|><|endoftext|><|endoftext|><|endoftext|><|endoftext|><|endoftext|><|endoftext|><|endoftext|><|endoftext|><|endoftext|><|endoftext|><|endoftext|><|endoftext|><|endoftext|><|endoftext|><|endoftext|><|endoftext|><|endoftext|><|endoftext|><|endoftext|><|endoftext|><|endoftext|><|endoftext|><|endoftext|><|endoftext|><|endoftext|><|endoftext|><|endoftext|><|endoftext|><|endoftext|><|endoftext|><|endoftext|><|endoftext|><|endoftext|><|endoftext|><|endoftext|><|endoftext|><|endoftext|><|endoftext|><|endoftext|><|endoftext|><|endoftext|><|endoftext|><|endoftext|><|endoftext|><|endoftext|><|endoftext|><|endoftext|><|endoftext|><|endoftext|><|endoftext|><|endoftext|><|endoftext|><|endoftext|><|endoftext|><|endoftext|><|endoftext|><|endoftext|><|endoftext|><|endoftext|><|endoftext|><|endoftext|><|endoftext|><|endoftext|><|endoftext|><|endoftext|><|endoftext|><|endoftext|><|endoftext|><|endoftext|><|endoftext|><|endoftext|><|endoftext|><|endoftext|><|endoftext|><|endoftext|><|endoftext|><|endoftext|><|endoftext|><|endoftext|><|endoftext|><|endoftext|><|endoftext|><|endoftext|><|endoftext|><|endoftext|><|endoftext|><|endoftext|><|endoftext|><|endoftext|><|endoftext|><|endoftext|><|endoftext|><|endoftext|><|endoftext|><|endoftext|><|endoftext|><|endoftext|><|endoftext|><|endoftext|><|endoftext|><|endoftext|><|endoftext|><|endoftext|><|endoftext|><|endoftext|><|endoftext|><|endoftext|><|endoftext|><|endoftext|><|endoftext|><|endoftext|><|endoftext|><|endoftext|><|endoftext|><|endoftext|><|endoftext|><|endoftext|><|endoftext|><|endoftext|><|endoftext|><|endoftext|><|endoftext|><|endoftext|><|endoftext|><|endoftext|><|endoftext|><|endoftext|><|endoftext|><|endoftext|><|endoftext|><|endoftext|><|endoftext|><|endoftext|><|endoftext|><|endoftext|><|endoftext|><|endoftext|><|endoftext|><|endoftext|><|endoftext|><|endoftext|><|endoftext|><|endoftext|><|endoftext|><|endoftext|><|endoftext|><|endoftext|><|endoftext|><|endoftext|><|endoftext|><|endoftext|><|endoftext|><|endoftext|><|endoftext|><|endoftext|><|endoftext|><|endoftext|><|endoftext|><|endoftext|><|endoftext|><|endoftext|><|endoftext|><|endoftext|><|endoftext|><|endoftext|><|endoftext|><|endoftext|><|endoftext|><|endoftext|><|endoftext|><|endoftext|><|endoftext|><|endoftext|><|endoftext|><|endoftext|><|endoftext|><|endoftext|><|endoftext|><|endoftext|><|endoftext|><|endoftext|><|endoftext|><|endoftext|><|endoftext|><|endoftext|><|endoftext|><|endoftext|><|endoftext|><|endoftext|><|endoftext|><|endoftext|><|endoftext|><|endoftext|><|endoftext|><|endoftext|><|endoftext|><|endoftext|><|endoftext|><|endoftext|><|endoftext|><|endoftext|><|endoftext|><|endoftext|><|endoftext|><|endoftext|><|endoftext|><|endoftext|><|endoftext|><|endoftext|><|endoftext|><|endoftext|><|endoftext|><|endoftext|><|endoftext|><|endoftext|><|endoftext|><|endoftext|><|endoftext|><|endoftext|><|endoftext|><|endoftext|><|endoftext|><|endoftext|><|endoftext|><|endoftext|><|endoftext|><|endoftext|><|endoftext|><|endoftext|><|endoftext|><|endoftext|><|endoftext|><|endoftext|><|endoftext|><|endoftext|><|endoftext|><|endoftext|><|endoftext|><|endoftext|><|endoftext|><|endoftext|><|endoftext|><|endoftext|><|endoftext|><|endoftext|><|endoftext|><|endoftext|><|endoftext|><|endoftext|><|endoftext|><|endoftext|><|endoftext|><|endoftext|><|endoftext|><|endoftext|><|endoftext|><|endoftext|><|endoftext|><|endoftext|><|endoftext|><|endoftext|><|endoftext|><|endoftext|><|endoftext|><|endoftext|><|endoftext|><|endoftext|><|endoftext|><|endoftext|><|endoftext|><|endoftext|><|endoftext|><|endoftext|><|endoftext|><|endoftext|><|endoftext|><|endoftext|><|endoftext|><|endoftext|><|endoftext|><|endoftext|><|endoftext|><|endoftext|><|endoftext|><|endoftext|><|endoftext|><|endoftext|><|endoftext|><|endoftext|><|endoftext|><|endoftext|><|endoftext|><|endoftext|><|endoftext|><|endoftext|><|endoftext|><|endoftext|><|endoftext|><|endoftext|><|endoftext|><|endoftext|><|endoftext|><|endoftext|><|endoftext|><|endoftext|><|endoftext|><|endoftext|><|endoftext|><|endoftext|><|endoftext|><|endoftext|><|endoftext|><|endoftext|><|endoftext|><|endoftext|><|endoftext|><|endoftext|><|endoftext|><|endoftext|><|endoftext|><|endoftext|><|endoftext|><|endoftext|><|endoftext|><|endoftext|><|endoftext|><|endoftext|><|endoftext|><|endoftext|><|endoftext|><|endoftext|><|endoftext|><|endoftext|><|endoftext|><|endoftext|><|endoftext|><|endoftext|><|endoftext|><|endoftext|><|endoftext|><|endoftext|><|endoftext|><|endoftext|><|endoftext|><|endoftext|><|endoftext|><|endoftext|><|endoftext|><|endoftext|><|endoftext|><|endoftext|><|endoftext|><|endoftext|><|endoftext|>']"
      ]
     },
     "execution_count": 25,
     "metadata": {},
     "output_type": "execute_result"
    }
   ],
   "source": [
    "codegen_agent.tokenizer.batch_decode(truncated)"
   ]
  },
  {
   "cell_type": "code",
   "execution_count": 52,
   "metadata": {},
   "outputs": [
    {
     "data": {
      "text/plain": [
       "'Each new term in the Fibonacci sequence is generated by adding the previous two terms. By starting with $1$ and $2$, the first $10$ terms will be:\\n$$1, 2, 3, 5, 8, 13, 21, 34, 55, 89, \\\\dots$$\\nBy considering the terms in the Fibonacci sequence whose values do not exceed four million, find the sum of the even-valued terms.\\n\\n'"
      ]
     },
     "execution_count": 52,
     "metadata": {},
     "output_type": "execute_result"
    }
   ],
   "source": [
    "sample_problem = [problem_set_reader.get_question(1), problem_set_reader.get_question(2)]\n",
    "sample_problem[1]"
   ]
  },
  {
   "cell_type": "code",
   "execution_count": 65,
   "metadata": {},
   "outputs": [
    {
     "data": {
      "text/plain": [
       "torch.Size([2, 93])"
      ]
     },
     "execution_count": 65,
     "metadata": {},
     "output_type": "execute_result"
    }
   ],
   "source": [
    "token_out.input_ids.shape"
   ]
  },
  {
   "cell_type": "code",
   "execution_count": 55,
   "metadata": {},
   "outputs": [
    {
     "name": "stderr",
     "output_type": "stream",
     "text": [
      "Setting `pad_token_id` to `eos_token_id`:50256 for open-end generation.\n"
     ]
    }
   ],
   "source": [
    "token_out = codegen_agent.tokenizer(sample_problem, return_tensors=\"pt\", padding=True).to(codegen_agent.device)\n",
    "completions = codegen_agent.model.generate(input_ids=token_out['input_ids'],\n",
    "                                        attention_mask=token_out['attention_mask'], \n",
    "                                        max_new_tokens=2048, \n",
    "                                        do_sample=True,\n",
    "                                        num_return_sequences=3)"
   ]
  },
  {
   "cell_type": "code",
   "execution_count": 63,
   "metadata": {},
   "outputs": [
    {
     "data": {
      "text/plain": [
       "torch.Size([6, 404])"
      ]
     },
     "execution_count": 63,
     "metadata": {},
     "output_type": "execute_result"
    }
   ],
   "source": [
    "completions.shape"
   ]
  },
  {
   "cell_type": "code",
   "execution_count": 31,
   "metadata": {},
   "outputs": [
    {
     "name": "stdout",
     "output_type": "stream",
     "text": [
      "If we list all the natural numbers below $10$ that are multiples of $3$ or $5$, we get $3, 5, 6$ and $9$. The sum of these multiples is $23$.\n",
      "Find the sum of all the multiples of $3$ or $5$ below $1000$.\n",
      "\n",
      "'''\n",
      "\n",
      "def sum_of_multiples(upper_bound = 1000):\n",
      "    sum_of_num_3_5 = 0\n",
      "    for num in range(1, upper_bound):\n",
      "        if(num%3==0):\n",
      "            sum_of_num_3_5 += num\n",
      "        if(num%5==0):\n",
      "            sum_of_num_3_5 += num\n",
      "    return sum_of_num_3_5\n",
      "\n"
     ]
    }
   ],
   "source": [
    "print(codegen_agent.tokenizer.decode(completions[0], skip_special_tokens=True))"
   ]
  },
  {
   "cell_type": "code",
   "execution_count": 32,
   "metadata": {},
   "outputs": [
    {
     "name": "stderr",
     "output_type": "stream",
     "text": [
      "Setting `pad_token_id` to `eos_token_id`:50256 for open-end generation.\n"
     ]
    }
   ],
   "source": [
    "completions = codegen_agent.model.generate(input_ids=token_out['input_ids'],\n",
    "                                        attention_mask=token_out['attention_mask'], \n",
    "                                        max_new_tokens=2048, \n",
    "                                        do_sample=True, \n",
    "                                        num_return_sequences=3)"
   ]
  },
  {
   "cell_type": "code",
   "execution_count": 45,
   "metadata": {},
   "outputs": [
    {
     "data": {
      "text/plain": [
       "torch.Size([5, 350])"
      ]
     },
     "execution_count": 45,
     "metadata": {},
     "output_type": "execute_result"
    }
   ],
   "source": [
    "completions.shape"
   ]
  },
  {
   "cell_type": "code",
   "execution_count": 62,
   "metadata": {},
   "outputs": [
    {
     "name": "stdout",
     "output_type": "stream",
     "text": [
      "Each new term in the Fibonacci sequence is generated by adding the previous two terms. By starting with $1$ and $2$, the first $10$ terms will be:\n",
      "$$1, 2, 3, 5, 8, 13, 21, 34, 55, 89, \\dots$$\n",
      "By considering the terms in the Fibonacci sequence whose values do not exceed four million, find the sum of the even-valued terms.\n",
      "\n",
      "\n",
      "\"\"\"\n",
      "\n",
      "import time\n",
      "\n",
      "from solutions.solution_09_a import *\n",
      "from solutions.solution_09_b import *\n",
      "\n",
      "print()\n",
      "start = time.process_time()\n",
      "\n",
      "print('\\nSOLUTION A:')\n",
      "print('The sum of the even-valued terms up to a four million: (2 + 3 + 5 + 7 +...  ) =', fibonacci_sum_up_to(4000000))\n",
      "\n",
      "print('\\nSOLUTION b:')\n",
      "print('The sum of the even-valued terms up to a four million: (2 + 3 + 5 + 7 +...  )=', fibonacci_with_list_sum(fibonacci_with_list(4000000),[2,3,5,7]))\n",
      "\n",
      "end = time.process_time()\n",
      "print()\n",
      "print('The solution is:', fibonacci_sum_up_to(4000000))\n",
      "print()\n",
      "print('Time duration:', end-start)\n",
      "\n",
      "\n"
     ]
    }
   ],
   "source": [
    "print(codegen_agent.tokenizer.decode(completions[5], skip_special_tokens=True))"
   ]
  },
  {
   "cell_type": "code",
   "execution_count": 2,
   "metadata": {},
   "outputs": [
    {
     "name": "stdout",
     "output_type": "stream",
     "text": [
      "232169\n"
     ]
    }
   ],
   "source": [
    "result = 0\n",
    "for number in range(999):\n",
    "    if (number % 3) == 0 or (number % 5) == 0:\n",
    "        result += number\n",
    "print(result)"
   ]
  },
  {
   "cell_type": "code",
   "execution_count": 2,
   "metadata": {},
   "outputs": [
    {
     "ename": "NameError",
     "evalue": "name 'pd' is not defined",
     "output_type": "error",
     "traceback": [
      "\u001b[1;31m---------------------------------------------------------------------------\u001b[0m",
      "\u001b[1;31mNameError\u001b[0m                                 Traceback (most recent call last)",
      "Cell \u001b[1;32mIn[2], line 1\u001b[0m\n\u001b[1;32m----> 1\u001b[0m geval_gpt \u001b[38;5;241m=\u001b[39m \u001b[43mpd\u001b[49m\u001b[38;5;241m.\u001b[39mread_pickle(os\u001b[38;5;241m.\u001b[39mpath\u001b[38;5;241m.\u001b[39mjoin(\u001b[38;5;124mr\u001b[39m\u001b[38;5;124m\"\u001b[39m\u001b[38;5;124mG:\u001b[39m\u001b[38;5;124m\\\u001b[39m\u001b[38;5;124mMy Drive\u001b[39m\u001b[38;5;124m\\\u001b[39m\u001b[38;5;124mChronical\u001b[39m\u001b[38;5;124m\\\u001b[39m\u001b[38;5;124m2024_04\u001b[39m\u001b[38;5;124m\\\u001b[39m\u001b[38;5;124mNaturalLanguageProcessing\u001b[39m\u001b[38;5;124m\\\u001b[39m\u001b[38;5;124mTermProject\u001b[39m\u001b[38;5;124m\\\u001b[39m\u001b[38;5;124mdata\u001b[39m\u001b[38;5;124m\"\u001b[39m, \u001b[38;5;124m\"\u001b[39m\u001b[38;5;124mGeval_GPT.pkl\u001b[39m\u001b[38;5;124m\"\u001b[39m))\n\u001b[0;32m      2\u001b[0m geval_gpt\n",
      "\u001b[1;31mNameError\u001b[0m: name 'pd' is not defined"
     ]
    }
   ],
   "source": [
    "geval_gpt = pd.read_pickle(os.path.join(r\"G:\\My Drive\\Chronical\\2024_04\\NaturalLanguageProcessing\\TermProject\\data\", \"Geval_GPT.pkl\"))\n",
    "geval_gpt"
   ]
  }
 ],
 "metadata": {
  "kernelspec": {
   "display_name": "default",
   "language": "python",
   "name": "python3"
  },
  "language_info": {
   "codemirror_mode": {
    "name": "ipython",
    "version": 3
   },
   "file_extension": ".py",
   "mimetype": "text/x-python",
   "name": "python",
   "nbconvert_exporter": "python",
   "pygments_lexer": "ipython3",
   "version": "3.10.11"
  }
 },
 "nbformat": 4,
 "nbformat_minor": 2
}
