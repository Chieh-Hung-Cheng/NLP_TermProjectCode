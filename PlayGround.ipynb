{
 "cells": [
  {
   "cell_type": "code",
   "execution_count": 1,
   "metadata": {},
   "outputs": [],
   "source": [
    "import os\n",
    "import pandas as pd\n",
    "import torch\n",
    "\n",
    "import importlib\n",
    "import pickle\n",
    "\n",
    "base_path = os.getcwd()\n",
    "data_path = os.path.join(base_path, \"data\")\n",
    "question_path = os.path.join(data_path, \"questions\")\n",
    "python_path = os.path.join(data_path, \"python\")"
   ]
  },
  {
   "cell_type": "code",
   "execution_count": 2,
   "metadata": {},
   "outputs": [],
   "source": [
    "import ProblemSetReader\n",
    "importlib.reload(ProblemSetReader)\n",
    "problem_set_reader = ProblemSetReader.ProblemSetReader()\n",
    "df = pd.read_pickle(\"./data/euler_df.pkl\")"
   ]
  },
  {
   "cell_type": "code",
   "execution_count": 83,
   "metadata": {},
   "outputs": [
    {
     "data": {
      "text/html": [
       "<div>\n",
       "<style scoped>\n",
       "    .dataframe tbody tr th:only-of-type {\n",
       "        vertical-align: middle;\n",
       "    }\n",
       "\n",
       "    .dataframe tbody tr th {\n",
       "        vertical-align: top;\n",
       "    }\n",
       "\n",
       "    .dataframe thead th {\n",
       "        text-align: right;\n",
       "    }\n",
       "</style>\n",
       "<table border=\"1\" class=\"dataframe\">\n",
       "  <thead>\n",
       "    <tr style=\"text-align: right;\">\n",
       "      <th></th>\n",
       "      <th>idx</th>\n",
       "      <th>question</th>\n",
       "      <th>answer</th>\n",
       "      <th>python_code</th>\n",
       "    </tr>\n",
       "  </thead>\n",
       "  <tbody>\n",
       "    <tr>\n",
       "      <th>0</th>\n",
       "      <td>1</td>\n",
       "      <td>If we list all the natural numbers below $10$ ...</td>\n",
       "      <td>233168</td>\n",
       "      <td>\\n\\ndef compute():\\n\\tans = sum(x for x in ran...</td>\n",
       "    </tr>\n",
       "    <tr>\n",
       "      <th>1</th>\n",
       "      <td>2</td>\n",
       "      <td>Each new term in the Fibonacci sequence is gen...</td>\n",
       "      <td>4613732</td>\n",
       "      <td>\\n\\ndef compute():\\n\\tans = 0\\n\\tx = 1  # Repr...</td>\n",
       "    </tr>\n",
       "    <tr>\n",
       "      <th>2</th>\n",
       "      <td>3</td>\n",
       "      <td>The prime factors of $13195$ are $5, 7, 13$ an...</td>\n",
       "      <td>6857</td>\n",
       "      <td>\\nimport math\\n\\n\\ndef compute():\\n\\tn = 60085...</td>\n",
       "    </tr>\n",
       "    <tr>\n",
       "      <th>3</th>\n",
       "      <td>4</td>\n",
       "      <td>A palindromic number reads the same both ways....</td>\n",
       "      <td>906609</td>\n",
       "      <td>\\n\\ndef compute():\\n\\tans = max(i * j\\n\\t\\tfor...</td>\n",
       "    </tr>\n",
       "    <tr>\n",
       "      <th>4</th>\n",
       "      <td>5</td>\n",
       "      <td>$2520$ is the smallest number that can be divi...</td>\n",
       "      <td>232792560</td>\n",
       "      <td>\\nimport math\\n\\n\\ndef compute():\\n\\tans = mat...</td>\n",
       "    </tr>\n",
       "    <tr>\n",
       "      <th>...</th>\n",
       "      <td>...</td>\n",
       "      <td>...</td>\n",
       "      <td>...</td>\n",
       "      <td>...</td>\n",
       "    </tr>\n",
       "    <tr>\n",
       "      <th>197</th>\n",
       "      <td>493</td>\n",
       "      <td>$70$ coloured balls are placed in an urn, $10$...</td>\n",
       "      <td>6.818742</td>\n",
       "      <td>\\nimport fractions, math\\n\\n\\ndef compute():\\n...</td>\n",
       "    </tr>\n",
       "    <tr>\n",
       "      <th>198</th>\n",
       "      <td>500</td>\n",
       "      <td>The number of divisors of $120$ is $16$.\\nIn f...</td>\n",
       "      <td>35407281</td>\n",
       "      <td>\\nimport eulerlib, heapq\\n\\n\\ndef compute():\\n...</td>\n",
       "    </tr>\n",
       "    <tr>\n",
       "      <th>199</th>\n",
       "      <td>518</td>\n",
       "      <td>Let $S(n) = \\sum a + b + c$ over all triples $...</td>\n",
       "      <td>100315739184392</td>\n",
       "      <td>\\nimport eulerlib, math, itertools\\n\\n\\ndef co...</td>\n",
       "    </tr>\n",
       "    <tr>\n",
       "      <th>200</th>\n",
       "      <td>549</td>\n",
       "      <td>\\nThe smallest number $m$ such that $10$ divid...</td>\n",
       "      <td>476001479068717</td>\n",
       "      <td>\\nimport itertools\\n\\n\\ndef compute():\\n\\tLIMI...</td>\n",
       "    </tr>\n",
       "    <tr>\n",
       "      <th>201</th>\n",
       "      <td>587</td>\n",
       "      <td>\\nA square is drawn around a circle as shown i...</td>\n",
       "      <td>2240</td>\n",
       "      <td>\\nimport itertools, math\\n\\n\\ndef compute():\\n...</td>\n",
       "    </tr>\n",
       "  </tbody>\n",
       "</table>\n",
       "<p>202 rows × 4 columns</p>\n",
       "</div>"
      ],
      "text/plain": [
       "     idx                                           question           answer  \\\n",
       "0      1  If we list all the natural numbers below $10$ ...           233168   \n",
       "1      2  Each new term in the Fibonacci sequence is gen...          4613732   \n",
       "2      3  The prime factors of $13195$ are $5, 7, 13$ an...             6857   \n",
       "3      4  A palindromic number reads the same both ways....           906609   \n",
       "4      5  $2520$ is the smallest number that can be divi...        232792560   \n",
       "..   ...                                                ...              ...   \n",
       "197  493  $70$ coloured balls are placed in an urn, $10$...         6.818742   \n",
       "198  500  The number of divisors of $120$ is $16$.\\nIn f...         35407281   \n",
       "199  518  Let $S(n) = \\sum a + b + c$ over all triples $...  100315739184392   \n",
       "200  549  \\nThe smallest number $m$ such that $10$ divid...  476001479068717   \n",
       "201  587  \\nA square is drawn around a circle as shown i...             2240   \n",
       "\n",
       "                                           python_code  \n",
       "0    \\n\\ndef compute():\\n\\tans = sum(x for x in ran...  \n",
       "1    \\n\\ndef compute():\\n\\tans = 0\\n\\tx = 1  # Repr...  \n",
       "2    \\nimport math\\n\\n\\ndef compute():\\n\\tn = 60085...  \n",
       "3    \\n\\ndef compute():\\n\\tans = max(i * j\\n\\t\\tfor...  \n",
       "4    \\nimport math\\n\\n\\ndef compute():\\n\\tans = mat...  \n",
       "..                                                 ...  \n",
       "197  \\nimport fractions, math\\n\\n\\ndef compute():\\n...  \n",
       "198  \\nimport eulerlib, heapq\\n\\n\\ndef compute():\\n...  \n",
       "199  \\nimport eulerlib, math, itertools\\n\\n\\ndef co...  \n",
       "200  \\nimport itertools\\n\\n\\ndef compute():\\n\\tLIMI...  \n",
       "201  \\nimport itertools, math\\n\\n\\ndef compute():\\n...  \n",
       "\n",
       "[202 rows x 4 columns]"
      ]
     },
     "execution_count": 83,
     "metadata": {},
     "output_type": "execute_result"
    }
   ],
   "source": [
    "df"
   ]
  },
  {
   "cell_type": "markdown",
   "metadata": {},
   "source": [
    "# Data Processing"
   ]
  },
  {
   "cell_type": "code",
   "execution_count": null,
   "metadata": {},
   "outputs": [],
   "source": [
    "import DataProcessor\n",
    "importlib.reload(DataProcessor)"
   ]
  },
  {
   "cell_type": "code",
   "execution_count": null,
   "metadata": {},
   "outputs": [],
   "source": [
    "data_processor = DataProcessor.DataProcessor()"
   ]
  },
  {
   "cell_type": "code",
   "execution_count": null,
   "metadata": {},
   "outputs": [],
   "source": [
    "df = data_processor.get_euler_dataframe()\n",
    "# save df\n",
    "df.to_pickle(\"/data/euler_df.pkl\")"
   ]
  },
  {
   "cell_type": "code",
   "execution_count": 3,
   "metadata": {},
   "outputs": [],
   "source": [
    "# load df from pickle\n",
    "df = pd.read_pickle(\"./data/euler_df.pkl\")"
   ]
  },
  {
   "cell_type": "code",
   "execution_count": 4,
   "metadata": {},
   "outputs": [
    {
     "data": {
      "text/html": [
       "<div>\n",
       "<style scoped>\n",
       "    .dataframe tbody tr th:only-of-type {\n",
       "        vertical-align: middle;\n",
       "    }\n",
       "\n",
       "    .dataframe tbody tr th {\n",
       "        vertical-align: top;\n",
       "    }\n",
       "\n",
       "    .dataframe thead th {\n",
       "        text-align: right;\n",
       "    }\n",
       "</style>\n",
       "<table border=\"1\" class=\"dataframe\">\n",
       "  <thead>\n",
       "    <tr style=\"text-align: right;\">\n",
       "      <th></th>\n",
       "      <th>idx</th>\n",
       "      <th>question</th>\n",
       "      <th>answer</th>\n",
       "      <th>python_code</th>\n",
       "    </tr>\n",
       "  </thead>\n",
       "  <tbody>\n",
       "    <tr>\n",
       "      <th>0</th>\n",
       "      <td>1</td>\n",
       "      <td>If we list all the natural numbers below $10$ ...</td>\n",
       "      <td>233168</td>\n",
       "      <td>\\n\\ndef compute():\\n\\tans = sum(x for x in ran...</td>\n",
       "    </tr>\n",
       "    <tr>\n",
       "      <th>1</th>\n",
       "      <td>2</td>\n",
       "      <td>Each new term in the Fibonacci sequence is gen...</td>\n",
       "      <td>4613732</td>\n",
       "      <td>\\n\\ndef compute():\\n\\tans = 0\\n\\tx = 1  # Repr...</td>\n",
       "    </tr>\n",
       "    <tr>\n",
       "      <th>2</th>\n",
       "      <td>3</td>\n",
       "      <td>The prime factors of $13195$ are $5, 7, 13$ an...</td>\n",
       "      <td>6857</td>\n",
       "      <td>\\nimport math\\n\\n\\ndef compute():\\n\\tn = 60085...</td>\n",
       "    </tr>\n",
       "    <tr>\n",
       "      <th>3</th>\n",
       "      <td>4</td>\n",
       "      <td>A palindromic number reads the same both ways....</td>\n",
       "      <td>906609</td>\n",
       "      <td>\\n\\ndef compute():\\n\\tans = max(i * j\\n\\t\\tfor...</td>\n",
       "    </tr>\n",
       "    <tr>\n",
       "      <th>4</th>\n",
       "      <td>5</td>\n",
       "      <td>$2520$ is the smallest number that can be divi...</td>\n",
       "      <td>232792560</td>\n",
       "      <td>\\nimport math\\n\\n\\ndef compute():\\n\\tans = mat...</td>\n",
       "    </tr>\n",
       "    <tr>\n",
       "      <th>...</th>\n",
       "      <td>...</td>\n",
       "      <td>...</td>\n",
       "      <td>...</td>\n",
       "      <td>...</td>\n",
       "    </tr>\n",
       "    <tr>\n",
       "      <th>197</th>\n",
       "      <td>493</td>\n",
       "      <td>$70$ coloured balls are placed in an urn, $10$...</td>\n",
       "      <td>6.818742</td>\n",
       "      <td>\\nimport fractions, math\\n\\n\\ndef compute():\\n...</td>\n",
       "    </tr>\n",
       "    <tr>\n",
       "      <th>198</th>\n",
       "      <td>500</td>\n",
       "      <td>The number of divisors of $120$ is $16$.\\nIn f...</td>\n",
       "      <td>35407281</td>\n",
       "      <td>\\nimport eulerlib, heapq\\n\\n\\ndef compute():\\n...</td>\n",
       "    </tr>\n",
       "    <tr>\n",
       "      <th>199</th>\n",
       "      <td>518</td>\n",
       "      <td>Let $S(n) = \\sum a + b + c$ over all triples $...</td>\n",
       "      <td>100315739184392</td>\n",
       "      <td>\\nimport eulerlib, math, itertools\\n\\n\\ndef co...</td>\n",
       "    </tr>\n",
       "    <tr>\n",
       "      <th>200</th>\n",
       "      <td>549</td>\n",
       "      <td>\\nThe smallest number $m$ such that $10$ divid...</td>\n",
       "      <td>476001479068717</td>\n",
       "      <td>\\nimport itertools\\n\\n\\ndef compute():\\n\\tLIMI...</td>\n",
       "    </tr>\n",
       "    <tr>\n",
       "      <th>201</th>\n",
       "      <td>587</td>\n",
       "      <td>\\nA square is drawn around a circle as shown i...</td>\n",
       "      <td>2240</td>\n",
       "      <td>\\nimport itertools, math\\n\\n\\ndef compute():\\n...</td>\n",
       "    </tr>\n",
       "  </tbody>\n",
       "</table>\n",
       "<p>202 rows × 4 columns</p>\n",
       "</div>"
      ],
      "text/plain": [
       "     idx                                           question           answer  \\\n",
       "0      1  If we list all the natural numbers below $10$ ...           233168   \n",
       "1      2  Each new term in the Fibonacci sequence is gen...          4613732   \n",
       "2      3  The prime factors of $13195$ are $5, 7, 13$ an...             6857   \n",
       "3      4  A palindromic number reads the same both ways....           906609   \n",
       "4      5  $2520$ is the smallest number that can be divi...        232792560   \n",
       "..   ...                                                ...              ...   \n",
       "197  493  $70$ coloured balls are placed in an urn, $10$...         6.818742   \n",
       "198  500  The number of divisors of $120$ is $16$.\\nIn f...         35407281   \n",
       "199  518  Let $S(n) = \\sum a + b + c$ over all triples $...  100315739184392   \n",
       "200  549  \\nThe smallest number $m$ such that $10$ divid...  476001479068717   \n",
       "201  587  \\nA square is drawn around a circle as shown i...             2240   \n",
       "\n",
       "                                           python_code  \n",
       "0    \\n\\ndef compute():\\n\\tans = sum(x for x in ran...  \n",
       "1    \\n\\ndef compute():\\n\\tans = 0\\n\\tx = 1  # Repr...  \n",
       "2    \\nimport math\\n\\n\\ndef compute():\\n\\tn = 60085...  \n",
       "3    \\n\\ndef compute():\\n\\tans = max(i * j\\n\\t\\tfor...  \n",
       "4    \\nimport math\\n\\n\\ndef compute():\\n\\tans = mat...  \n",
       "..                                                 ...  \n",
       "197  \\nimport fractions, math\\n\\n\\ndef compute():\\n...  \n",
       "198  \\nimport eulerlib, heapq\\n\\n\\ndef compute():\\n...  \n",
       "199  \\nimport eulerlib, math, itertools\\n\\n\\ndef co...  \n",
       "200  \\nimport itertools\\n\\n\\ndef compute():\\n\\tLIMI...  \n",
       "201  \\nimport itertools, math\\n\\n\\ndef compute():\\n...  \n",
       "\n",
       "[202 rows x 4 columns]"
      ]
     },
     "execution_count": 4,
     "metadata": {},
     "output_type": "execute_result"
    }
   ],
   "source": [
    "df"
   ]
  },
  {
   "cell_type": "markdown",
   "metadata": {},
   "source": [
    "# Test CodeT5"
   ]
  },
  {
   "cell_type": "code",
   "execution_count": null,
   "metadata": {},
   "outputs": [],
   "source": [
    "from transformers import T5ForConditionalGeneration, RobertaTokenizer"
   ]
  },
  {
   "cell_type": "code",
   "execution_count": null,
   "metadata": {},
   "outputs": [],
   "source": [
    "tokenizer = RobertaTokenizer.from_pretrained('Salesforce/codet5-small')\n",
    "model = T5ForConditionalGeneration.from_pretrained('Salesforce/codet5-small')\n",
    "\n",
    "text = \"def greet(user): print(f'hello <extra_id_0>!')\"\n",
    "input_ids = tokenizer(text, return_tensors=\"pt\").input_ids\n",
    "\n",
    "# simply generate a single sequence\n",
    "generated_ids = model.generate(input_ids, max_length=10)\n",
    "print(tokenizer.decode(generated_ids[0], skip_special_tokens=True))\n",
    "# this prints \"user: {user.name}\""
   ]
  },
  {
   "cell_type": "code",
   "execution_count": null,
   "metadata": {},
   "outputs": [],
   "source": [
    "tokenizer(text, return_tensors=\"pt\")"
   ]
  },
  {
   "cell_type": "code",
   "execution_count": null,
   "metadata": {},
   "outputs": [],
   "source": [
    "generated_ids"
   ]
  },
  {
   "cell_type": "code",
   "execution_count": null,
   "metadata": {},
   "outputs": [],
   "source": [
    "tokenizer.decode(generated_ids[0][3])"
   ]
  },
  {
   "cell_type": "code",
   "execution_count": null,
   "metadata": {},
   "outputs": [],
   "source": [
    "import ProblemSetReader\n",
    "importlib.reload(ProblemSetReader)"
   ]
  },
  {
   "cell_type": "code",
   "execution_count": null,
   "metadata": {},
   "outputs": [],
   "source": [
    "question, answer, code = problem_set_reader.get_problem_set(1)"
   ]
  },
  {
   "cell_type": "code",
   "execution_count": null,
   "metadata": {},
   "outputs": [],
   "source": [
    "question"
   ]
  },
  {
   "cell_type": "code",
   "execution_count": null,
   "metadata": {},
   "outputs": [],
   "source": [
    "input_ids = tokenizer(question, return_tensors=\"pt\").input_ids\n",
    "generated_ids = model.generate(input_ids, max_length=500)\n",
    "print(tokenizer.decode(generated_ids[0], skip_special_tokens=True))"
   ]
  },
  {
   "cell_type": "markdown",
   "metadata": {},
   "source": [
    "# Test CodeGen"
   ]
  },
  {
   "cell_type": "code",
   "execution_count": 2,
   "metadata": {},
   "outputs": [
    {
     "name": "stderr",
     "output_type": "stream",
     "text": [
      "C:\\Users\\ChiehHung\\AppData\\Roaming\\Python\\Python310\\site-packages\\tqdm\\auto.py:21: TqdmWarning: IProgress not found. Please update jupyter and ipywidgets. See https://ipywidgets.readthedocs.io/en/stable/user_install.html\n",
      "  from .autonotebook import tqdm as notebook_tqdm\n"
     ]
    }
   ],
   "source": [
    "from transformers import AutoTokenizer, AutoModelForCausalLM"
   ]
  },
  {
   "cell_type": "code",
   "execution_count": 73,
   "metadata": {},
   "outputs": [],
   "source": [
    "size_str = \"2B\"\n",
    "tokenizer = AutoTokenizer.from_pretrained(f\"Salesforce/codegen-{size_str}-mono\", padding_side=\"left\")\n",
    "model = AutoModelForCausalLM.from_pretrained(f\"Salesforce/codegen-{size_str}-mono\",\n",
    "                                             output_hidden_states=False)"
   ]
  },
  {
   "cell_type": "code",
   "execution_count": 74,
   "metadata": {},
   "outputs": [
    {
     "name": "stdout",
     "output_type": "stream",
     "text": [
      "torch.Size([4, 95])\n",
      "torch.Size([4, 95])\n"
     ]
    }
   ],
   "source": [
    "text = [problem_set_reader.get_question(i)+\"\\\"\\\"\\\"\" for i in range(1, 5)]\n",
    "tokenizer.pad_token = tokenizer.eos_token\n",
    "\n",
    "token_out = tokenizer(text, return_tensors=\"pt\", padding=True, truncation=True)\n",
    "input_ids = token_out.input_ids\n",
    "attention_mask = token_out.attention_mask\n",
    "\n",
    "print(input_ids.shape)\n",
    "print(attention_mask.shape)"
   ]
  },
  {
   "cell_type": "code",
   "execution_count": 75,
   "metadata": {},
   "outputs": [
    {
     "name": "stdout",
     "output_type": "stream",
     "text": [
      "tensor([50256, 50256, 50256, 50256, 50256, 50256, 50256, 50256, 50256, 50256,\n",
      "        50256, 50256, 50256, 50256, 50256, 50256, 50256, 50256, 50256, 50256,\n",
      "        50256, 50256, 50256, 50256, 50256, 50256,  1532,   356,  1351,   477,\n",
      "          262,  3288,  3146,  2174,   720,   940,     3,   326,   389,  5021,\n",
      "         2374,   286,   720,    18,     3,   393,   720,    20, 47113,   356,\n",
      "          651,   720,    18,    11,   642,    11,   718,     3,   290,   720,\n",
      "           24, 35307,   383,  2160,   286,   777,  5021,  2374,   318,   720,\n",
      "         1954, 35307,   198, 16742,   262,  2160,   286,   477,   262,  5021,\n",
      "         2374,   286,   720,    18,     3,   393,   720,    20,     3,  2174,\n",
      "          720, 12825, 35307,   198, 37811])\n",
      "tensor([0, 0, 0, 0, 0, 0, 0, 0, 0, 0, 0, 0, 0, 0, 0, 0, 0, 0, 0, 0, 0, 0, 0, 0,\n",
      "        0, 0, 1, 1, 1, 1, 1, 1, 1, 1, 1, 1, 1, 1, 1, 1, 1, 1, 1, 1, 1, 1, 1, 1,\n",
      "        1, 1, 1, 1, 1, 1, 1, 1, 1, 1, 1, 1, 1, 1, 1, 1, 1, 1, 1, 1, 1, 1, 1, 1,\n",
      "        1, 1, 1, 1, 1, 1, 1, 1, 1, 1, 1, 1, 1, 1, 1, 1, 1, 1, 1, 1, 1, 1, 1])\n"
     ]
    }
   ],
   "source": [
    "print(input_ids[0])\n",
    "print(attention_mask[0])"
   ]
  },
  {
   "cell_type": "code",
   "execution_count": 76,
   "metadata": {},
   "outputs": [
    {
     "name": "stderr",
     "output_type": "stream",
     "text": [
      "Setting `pad_token_id` to `eos_token_id`:50256 for open-end generation.\n"
     ]
    }
   ],
   "source": [
    "completion = model.generate(input_ids=input_ids, \n",
    "                            attention_mask=attention_mask,\n",
    "                            max_length=512)"
   ]
  },
  {
   "cell_type": "code",
   "execution_count": 77,
   "metadata": {},
   "outputs": [
    {
     "data": {
      "text/plain": [
       "torch.Size([4, 512])"
      ]
     },
     "execution_count": 77,
     "metadata": {},
     "output_type": "execute_result"
    }
   ],
   "source": [
    "completion.shape"
   ]
  },
  {
   "cell_type": "code",
   "execution_count": 78,
   "metadata": {},
   "outputs": [],
   "source": [
    "decoded_texts = tokenizer.batch_decode(completion, skip_special_tokens=True)"
   ]
  },
  {
   "cell_type": "code",
   "execution_count": 80,
   "metadata": {},
   "outputs": [
    {
     "name": "stdout",
     "output_type": "stream",
     "text": [
      "If we list all the natural numbers below $10$ that are multiples of $3$ or $5$, we get $3, 5, 6$ and $9$. The sum of these multiples is $23$.\n",
      "Find the sum of all the multiples of $3$ or $5$ below $1000$.\n",
      "\"\"\"\n",
      "\n",
      "def sum_of_multiples(n):\n",
      "    \"\"\"\n",
      "    >>> sum_of_multiples(10)\n",
      "    23\n",
      "    >>> sum_of_multiples(100)\n",
      "    2318\n",
      "    >>> sum_of_multiples(1000)\n",
      "    231818181818181818181818181818181818181818181818181818181818181818181818181818181818181818181818181818181818181818181818181818181818181818181818181818181818181818181818181818181818181818181818181818181818181818181818181818181818181818181818181818181818181818181818181818181818181818181818181818181818181818181818181818181818181818181818181818181818181818181818181818181818181818181818181818181818181818181818181818181818181818181818181818181818181818181818181818181818181818181818181818181818181818181818181818181818181818181818181818181818181818181818181818181818181818181818181818181818181818181818181818181818181818181818181818181818181818181818181818181818181818181818181818181818181818181818181818181818181818\n",
      "Each new term in the Fibonacci sequence is generated by adding the previous two terms. By starting with $1$ and $2$, the first $10$ terms will be:\n",
      "$$1, 2, 3, 5, 8, 13, 21, 34, 55, 89, \\dots$$\n",
      "By considering the terms in the Fibonacci sequence whose values do not exceed four million, find the sum of the even-valued terms.\n",
      "\n",
      "\"\"\"\n",
      "\n",
      "def fibonacci(n):\n",
      "    if n == 0:\n",
      "        return 0\n",
      "    elif n == 1:\n",
      "        return 1\n",
      "    else:\n",
      "        return fibonacci(n-1) + fibonacci(n-2)\n",
      "\n",
      "def sum_even_fibonacci_numbers(n):\n",
      "    sum = 0\n",
      "    for i in range(n):\n",
      "        if fibonacci(i) % 2 == 0:\n",
      "            sum += fibonacci(i)\n",
      "    return sum\n",
      "\n",
      "print(sum_even_fibonacci_numbers(4000000))\n",
      "\n",
      "The prime factors of $13195$ are $5, 7, 13$ and $29$.\n",
      "What is the largest prime factor of the number $600851475143$?\n",
      "\n",
      "\n",
      "\"\"\"\n",
      "\n",
      "import math\n",
      "\n",
      "def largest_prime_factor(n):\n",
      "    \"\"\"\n",
      "    Finds the largest prime factor of a given number.\n",
      "    \"\"\"\n",
      "    if n == 1:\n",
      "        return 1\n",
      "    else:\n",
      "        for i in range(2, int(math.sqrt(n)) + 1):\n",
      "            if n % i == 0:\n",
      "                return i\n",
      "        return n\n",
      "\n",
      "print(largest_prime_factor(600851475143))\n",
      "\n",
      "A palindromic number reads the same both ways. The largest palindrome made from the product of two $2$-digit numbers is $9009 = 91 \\times 99$.\n",
      "Find the largest palindrome made from the product of two $3$-digit numbers.\n",
      "\n",
      "\"\"\"\n",
      "\n",
      "def is_palindrome(n):\n",
      "    return str(n) == str(n)[::-1]\n",
      "\n",
      "def largest_palindrome(n):\n",
      "    for i in range(999, 100, -1):\n",
      "        for j in range(999, 100, -1):\n",
      "            if is_palindrome(i * j):\n",
      "                return i * j\n",
      "\n",
      "print(largest_palindrome(9009))\n",
      "\n"
     ]
    }
   ],
   "source": [
    "for decoded_text in decoded_texts:\n",
    "    print(decoded_text)"
   ]
  },
  {
   "cell_type": "code",
   "execution_count": 63,
   "metadata": {},
   "outputs": [
    {
     "name": "stdout",
     "output_type": "stream",
     "text": [
      "<|endoftext|><|endoftext|><|endoftext|><|endoftext|><|endoftext|><|endoftext|><|endoftext|><|endoftext|><|endoftext|><|endoftext|><|endoftext|><|endoftext|><|endoftext|><|endoftext|><|endoftext|><|endoftext|><|endoftext|><|endoftext|><|endoftext|><|endoftext|><|endoftext|><|endoftext|><|endoftext|><|endoftext|><|endoftext|><|endoftext|>If we list all the natural numbers below $10$ that are multiples of $3$ or $5$, we get $3, 5, 6$ and $9$. The sum of these multiples is $23$.\n",
      "Find the sum of all the multiples of $3$ or $5$ below $1000$.\n",
      "\"\"\"\n",
      "\n",
      "def sum_of_multiples(n):\n",
      "    \"\"\"\n",
      "    >>> sum_of_multiples(10)\n",
      "    23\n",
      "    >>> sum_of_multiples(100)\n",
      "    2318\n",
      "    >>> sum_of_multiples(1000)\n",
      "    231818181818181818181818181818181818181818181818181818181818181818181818181818181818181818181818181818181818181818181818181818181818181818181818181818181818181818181818181818181818181818181818181818181818181818181818181818181818181818181818181818181818181818181818181818181818181818181818181818181818181818181818181818181818181818181818181818181818181818181818181818181818181818181818181818181818181818181818181818181818181818181818181818181818181818181818181818181818181818181818181818181818181818181818181818181818181818181818181818181818181818181818181818181818181818181818181818181818181818181818181818181818181818181818181818181818181818181818181818181818181818181818181818181818181818181818181818181818181818\n"
     ]
    }
   ],
   "source": [
    "print(tokenizer.decode(completion[0]))"
   ]
  },
  {
   "cell_type": "code",
   "execution_count": 81,
   "metadata": {},
   "outputs": [
    {
     "name": "stdout",
     "output_type": "stream",
     "text": [
      "\n",
      "\n",
      "from math import sqrt\n",
      "\n",
      "def is_prime(n):\n",
      "    if n == 1:\n",
      "        return False\n",
      "    for i in range(2, int(sqrt(n)) + 1):\n",
      "        if n % i == 0:\n",
      "            return False\n",
      "    return True\n",
      "\n",
      "def solution(limit):\n",
      "    primes = []\n",
      "    for i in range(2, limit):\n",
      "        if is_prime(i):\n",
      "            primes.append(i)\n",
      "    \n",
      "    max_prime = 0\n",
      "    max_prime_sum = 0\n",
      "    for i in range(len(primes)):\n",
      "        for j in range(i, len(primes)):\n",
      "            sum = primes[i] + primes[j]\n",
      "            if sum < limit:\n",
      "                if is_prime(sum):\n",
      "                    if sum > max_prime_sum:\n",
      "                        max_prime_sum = sum\n",
      "                        max_prime = primes[i] + primes[j]\n",
      "    return max_prime\n",
      "\n",
      "print(solution(1000000))\n",
      "\n"
     ]
    }
   ],
   "source": [
    "print(tokenizer.decode(completion[0][len(input_ids[0]):][:-1]))"
   ]
  },
  {
   "cell_type": "code",
   "execution_count": 65,
   "metadata": {},
   "outputs": [
    {
     "name": "stderr",
     "output_type": "stream",
     "text": [
      "Setting `pad_token_id` to `eos_token_id`:50256 for open-end generation.\n"
     ]
    },
    {
     "name": "stdout",
     "output_type": "stream",
     "text": [
      "<|endoftext|><|endoftext|><|endoftext|><|endoftext|><|endoftext|><|endoftext|><|endoftext|><|endoftext|><|endoftext|><|endoftext|><|endoftext|><|endoftext|><|endoftext|><|endoftext|><|endoftext|><|endoftext|><|endoftext|><|endoftext|><|endoftext|><|endoftext|><|endoftext|><|endoftext|><|endoftext|><|endoftext|><|endoftext|><|endoftext|>If we list all the natural numbers below $10$ that are multiples of $3$ or $5$, we get $3, 5, 6$ and $9$. The sum of these multiples is $23$.\n",
      "Find the sum of all the multiples of $3$ or $5$ below $1000$.\n",
      "\"\"\"\n",
      "\n",
      "def sum_of_multiples(n):\n",
      "    \"\"\"\n",
      "    >>> sum_of_multiples(10)\n",
      "    23\n",
      "    >>> sum_of_multiples(100)\n",
      "    2318\n",
      "    >>> sum_of_multiples(1000)\n",
      "    231818181818181818181818181818181818181818181818181818181818181818181818181818181818181818181818181818181818181818181818181818181818181818181818181818181818181818181818181818181818181818181818181818181818181818181818181818181818181818181818181818181818181818181818181818181818181818181818181818181818181818181818181818181818181818181818181818181818181818181818181818181818181818181818181818181818181818181818181818181818181818181818181818181818181818181818181818181818181818181818181818181818181818181818181818181818181818181818181818181818181818181818181818181818181818181818181818181818181818181818181818181818181818181818181818181818181818181818181818181818181818181818181818181818181818181818181818181818181818\n"
     ]
    }
   ],
   "source": [
    "tokenizer_out = tokenizer(problem_set_reader.get_question(1)+\"\\\"\\\"\\\"\", return_tensors=\"pt\", \n",
    "                          padding=True, truncation=True)\n",
    "model.generate(input_ids=tokenizer_out.input_ids,\n",
    "               attention_mask=tokenizer_out.attention_mask,\n",
    "               max_length=512)\n",
    "print(tokenizer.decode(completion[0]))"
   ]
  },
  {
   "cell_type": "code",
   "execution_count": 68,
   "metadata": {},
   "outputs": [
    {
     "name": "stderr",
     "output_type": "stream",
     "text": [
      "Setting `pad_token_id` to `eos_token_id`:50256 for open-end generation.\n"
     ]
    },
    {
     "name": "stdout",
     "output_type": "stream",
     "text": [
      "If we list all the natural numbers below $10$ that are multiples of $3$ or $5$, we get $3, 5, 6$ and $9$. The sum of these multiples is $23$.\n",
      "Find the sum of all the multiples of $3$ or $5$ below $1000$.\n",
      "\"\"\"\n",
      "\n",
      "def sum_of_multiples(n):\n",
      "    \"\"\"\n",
      "    >>> sum_of_multiples(10)\n",
      "    23\n",
      "    >>> sum_of_multiples(100)\n",
      "    2318\n",
      "    >>> sum_of_multiples(1000)\n",
      "    23181818181818181818181818181818181818181818181818181818181818181818181818181818181818181818181818181818181818181818181818181818181818181818181818181818181818181818181818181818181818181818181818181818181818181818181818181818181818181818181818181818181818\n"
     ]
    }
   ],
   "source": [
    "tokenizer = AutoTokenizer.from_pretrained(\"Salesforce/codegen-2B-mono\")\n",
    "\n",
    "completion = model.generate(**tokenizer(problem_set_reader.get_question(1)+\"\\\"\\\"\\\"\", return_tensors=\"pt\"), max_length=256)\n",
    "\n",
    "print(tokenizer.decode(completion[0]))"
   ]
  },
  {
   "cell_type": "code",
   "execution_count": 84,
   "metadata": {},
   "outputs": [],
   "source": [
    "generated_path = os.path.join(os.getcwd(), \"data\", \"generated\")\n",
    "if not os.path.isdir(generated_path):\n",
    "    os.mkdir(generated_path)"
   ]
  },
  {
   "cell_type": "code",
   "execution_count": 85,
   "metadata": {},
   "outputs": [],
   "source": [
    "idx = 50\n",
    "generated_code_str = tokenizer.decode(completion[0][len(input_ids[0]):][:-1])\n",
    "\n",
    "with open(os.path.join(generated_path, f\"p{idx:03d}.py\"), \"w\", encoding=\"utf-8\") as f:\n",
    "    f.write(generated_code_str)\n",
    "    "
   ]
  },
  {
   "cell_type": "markdown",
   "metadata": {},
   "source": [
    "# Evaluator"
   ]
  },
  {
   "cell_type": "code",
   "execution_count": 3,
   "metadata": {},
   "outputs": [
    {
     "data": {
      "text/plain": [
       "'233168\\n'"
      ]
     },
     "execution_count": 3,
     "metadata": {},
     "output_type": "execute_result"
    }
   ],
   "source": [
    "import sys\n",
    "from io import StringIO\n",
    "\n",
    "code = open(os.path.join(python_path, \"p001.py\"), \"r\").read()\n",
    "\n",
    "old_stdout = sys.stdout\n",
    "redirected_output = sys.stdout = StringIO()\n",
    "try: \n",
    "    exec(code)\n",
    "except:\n",
    "    raise Exception(\"Error in code\")\n",
    "finally: \n",
    "    sys.stdout = old_stdout\n",
    "\n",
    "answer_calculated = redirected_output.getvalue()\n",
    "answer_calculated"
   ]
  },
  {
   "cell_type": "code",
   "execution_count": 9,
   "metadata": {},
   "outputs": [],
   "source": [
    "import Evaluator\n",
    "importlib.reload(Evaluator)\n",
    "evaluator = Evaluator.Evaluator()"
   ]
  },
  {
   "cell_type": "code",
   "execution_count": 10,
   "metadata": {},
   "outputs": [
    {
     "data": {
      "text/plain": [
       "True"
      ]
     },
     "execution_count": 10,
     "metadata": {},
     "output_type": "execute_result"
    }
   ],
   "source": [
    "evaluator.evaluate(os.path.join(python_path, \"p001.py\"), problem_set_reader.get_answer(1))"
   ]
  }
 ],
 "metadata": {
  "kernelspec": {
   "display_name": "default",
   "language": "python",
   "name": "python3"
  },
  "language_info": {
   "codemirror_mode": {
    "name": "ipython",
    "version": 3
   },
   "file_extension": ".py",
   "mimetype": "text/x-python",
   "name": "python",
   "nbconvert_exporter": "python",
   "pygments_lexer": "ipython3",
   "version": "3.10.11"
  }
 },
 "nbformat": 4,
 "nbformat_minor": 2
}
