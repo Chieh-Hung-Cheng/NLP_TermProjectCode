{
 "cells": [
  {
   "cell_type": "code",
   "execution_count": 1,
   "metadata": {},
   "outputs": [],
   "source": [
    "import os\n",
    "import pandas as pd\n",
    "import torch\n",
    "\n",
    "import importlib\n",
    "import pickle\n",
    "import re\n",
    "\n",
    "base_path = os.getcwd()\n",
    "data_path = os.path.join(base_path, \"data\")\n",
    "question_path = os.path.join(data_path, \"questions\")\n",
    "python_path = os.path.join(data_path, \"python\")"
   ]
  },
  {
   "cell_type": "code",
   "execution_count": null,
   "metadata": {},
   "outputs": [],
   "source": [
    "def rename_files_in_folder(folder_path):\n",
    "    files = os.listdir(folder_path)\n",
    "    \n",
    "    old_pattern = re.compile(r'p(\\d+).py')\n",
    "    \n",
    "    for file_name in files:\n",
    "        if file_name.endswith('.py'):\n",
    "            match = old_pattern.match(file_name)\n",
    "            if match:\n",
    "                idx = int(match.group(1))\n",
    "                \n",
    "                for attempt in range(10): \n",
    "                    new_file_name = f\"p{idx:03d}_{attempt}.py\"\n",
    "                    new_file_path = os.path.join(folder_path, new_file_name)\n",
    "                    \n",
    "                    if not os.path.exists(new_file_path):\n",
    "                        old_file_path = os.path.join(folder_path, file_name)\n",
    "                        os.rename(old_file_path, new_file_path)\n",
    "                        print(f\"Renamed {file_name} to {new_file_name}\")\n",
    "                        break\n",
    "\n",
    "folder_path = \"./data/Answer_GPT4\"\n",
    "rename_files_in_folder(folder_path)"
   ]
  },
  {
   "cell_type": "code",
   "execution_count": 2,
   "metadata": {},
   "outputs": [],
   "source": [
    "import ProblemSetReader\n",
    "importlib.reload(ProblemSetReader)\n",
    "problem_set_reader = ProblemSetReader.ProblemSetReader()\n",
    "df = pd.read_pickle(\"./data/euler_df.pkl\")"
   ]
  },
  {
   "cell_type": "code",
   "execution_count": 39,
   "metadata": {},
   "outputs": [
    {
     "data": {
      "text/plain": [
       "<module 'PassatKEvaluator' from 'd:\\\\Document\\\\Ucla-doc\\\\263\\\\project\\\\NLP_TermProjectCode\\\\PassatKEvaluator.py'>"
      ]
     },
     "execution_count": 39,
     "metadata": {},
     "output_type": "execute_result"
    }
   ],
   "source": [
    "import PassatKEvaluator\n",
    "importlib.reload(PassatKEvaluator)"
   ]
  },
  {
   "cell_type": "code",
   "execution_count": 85,
   "metadata": {},
   "outputs": [],
   "source": [
    "evaluator = PassatKEvaluator.PassAtKEvaluator()\n",
    "answer_path = \"./data/Answer_GPT4\"\n",
    "\n",
    "evaluator.evaluate_pass_at_k(answer_path, df, k=1)"
   ]
  },
  {
   "cell_type": "code",
   "execution_count": 88,
   "metadata": {},
   "outputs": [
    {
     "data": {
      "text/plain": [
       "{'pass_at_k_count': 23,\n",
       " 'total_count': 56,\n",
       " 'pass_at_k_ratio': 0.4107142857142857}"
      ]
     },
     "execution_count": 88,
     "metadata": {},
     "output_type": "execute_result"
    }
   ],
   "source": [
    "evaluator.evaluate_pass_at_k(answer_path, df, k=1)"
   ]
  }
 ],
 "metadata": {
  "kernelspec": {
   "display_name": "219-env-ass02",
   "language": "python",
   "name": "python3"
  },
  "language_info": {
   "codemirror_mode": {
    "name": "ipython",
    "version": 3
   },
   "file_extension": ".py",
   "mimetype": "text/x-python",
   "name": "python",
   "nbconvert_exporter": "python",
   "pygments_lexer": "ipython3",
   "version": "3.8.18"
  }
 },
 "nbformat": 4,
 "nbformat_minor": 2
}
